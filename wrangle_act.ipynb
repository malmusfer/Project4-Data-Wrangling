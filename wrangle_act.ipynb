{
 "cells": [
  {
   "cell_type": "markdown",
   "metadata": {},
   "source": [
    "![alt text](data:image/png;base64,iVBORw0KGgoAAAANSUhEUgAAAJcAAABPCAMAAADRLKcJAAAAeFBMVEX///8AsuTx+f0Ar+Pp9vz7/v8hteUxueYArOHPz9HK6fdUwOj2+/7k9PsAquGgoKTt7u/AwcN3f4WAzu2Z1vBkxerT7fj19faAgobc3t9CvOd5yuyN0u6s3fK54vTa8Pl1d3yrq61NVF4+SFNscHiLj5OWmJ20trlqCGW8AAAC0UlEQVRoge2Z23KjMAyGLQzYnBoI5AQNKdsmef83XMlAwil7tSi7M/5n6mKJjr+xZCdShbCysrJaX94fXH/wra2wjC4vXPuyDFlZnkp2EkDmSy63QpfecROR4k8pAVdX83h5BRiXdPixzmbh3F/gqn3arAKHmJtqX5o4ubGacV0i40qEZudyTWIpzGtnul8OJZb0KeXZuT5xRSnPBmPCVVDOtS5urlpSnPKWZsLlALqqjoaVKy5xOR25PciEywfY9xNWLhc3y39emHMu9bgbeLkwUoOp5bJclstyWS7LZbn+H67YB/8V1wcAXwk54RIl6MGmDLlcPX6Tl2sHclC+DrlqCYz145QLV6+WuZD4/D4ud1S9DrgcDdIVbJpy0bY8N2zAtQPOMFLFo0eGiwQdDryqPQa1Bv2qpbKKAD7GhhwrxqR7xqokMg97+aKhsprwYthPLY/iLNRt8EI0KVYs8SllMba4WDTKwlyhuam1Y2qZAHMvJ5Sz69JVGDW/uAgPCZOk8HGqGM9iK9ycemLydtSxAIUR9RX1n3TF38TEIPkzY0jtgV5avaWDudy73FeqpZKc1/xQeOimqW9ksh10zt4k7FXJJTDqioGOkoU/4FKEYLtxZsfUvZTwrtZ4JwLrriwjrzAtxKXo8qptZVbni+M5l3OlabOqN3TFZzINaZBaf2htnl7+44NbdQlSdjcDRG9OrJGSOo9KVUZ5zf6hY2VlZWVl9S/qcJhZ0qHXm7+wnrIMhxut/9Vstllr+9X6tptme6J5gN8Sm+a72eC3xh+E+1ofMCCUDXEd8edKGOK6Mb+O/W4RF2GaMd2K1s3JdWrM4N3I9dO/M+IS2XWzPtYS1+3efB9ecz3ta+pEW/MlxDOOh22QBvduIg5zriMHl2hu2dWk+zG7XwnnHjxI79k1eBeXSIM2v9PTyRyz9DGIU2As3f3QH4NUWFlZWf19/QbV0iIDxsjqHwAAAABJRU5ErkJggg== \"Udacity\") ![alt text](https://www.miskacademy.edu.sa/app/themes/misk-academy/images/logos.png \"Misk\") \n",
    "\n",
    "\n",
    "\n",
    "\n",
    "# Project: Wrangle and Analyze Data : WeRateDogs Twitter Data\n",
    "## by: Almutairi, Muhanned\n",
    "![alt text](data:image/png;base64,iVBORw0KGgoAAAANSUhEUgAAACAAAAAgCAYAAABzenr0AAACtklEQVR4AeyVA5AkQRREZ862bTMcZ9u2wzrbtm3bWNvmaW3b3rzKRa+NOWVEDoqvqv//LZPtUpoubC2cLIxKMveyku1UmkYAG2EoyFYESFEgQIos346dX7K7YiFyN8iFB17Sxx4NRxzVdcbYO6aotke5cgB42sFXDGDjF4FM+UbGY+5TK9FXKQBKOKTtjNz68CMAdQ+oVjyAXPicoRtyS8M5GA0PqRGwgm9gxxdMf2SBkNhEZCoxORXbVH9CXllBWHOvCla9sQNPbegRit3qDmhyWL1SYkCKA7kIxvoH1MBrr5KZllJ/IWnK3zskZ/SXEIDB1vm0trAO6K5ndNCYN5DRz9tgWxdhfnc8pQ2madXdSmDb7CeWWPfOHite22LoDWMegiDFj4GJ983hFBLD9IOPcEB0AjZ8+S6daIeaAwJFG/v8ouJh4ROB3uf1sFHpB34GRSMmMRlJKalISE5hLEHJIRCjbptAXlyAmY8tEZ2QjOzaK4qSbHs6AItTdhHwvpU3N0ZB+hYQhcGXDTi//AFSUtNPW5SY3lX3KJc7gKSwuESYeIXByDMM4XFJyC1bv0i0PKbJoCx/ALewWMwSwccApZe9skFwTAKyiXEjPYZyBziq48zUlVK09j4VvLL3Q3ZFxCdh/D0z7lG+AHFJKVj03DrHwhxHqOzimjMeWZQ/QKQ42ZQH5jkW5u896o7IJmYJa0T5A/BqJ+S6Wv7eqebwH+A/QOUBTMwHYFdpAaY9tACrVqyYECPMOr9d1UF6Gx7QcgLb2McxfCOOu2uaB2CLyk/EJ6WPo4PEmtOLqgOsZK2Pa4IDSUvPeWKFXud1pRre94Ie5jy1kvqnC+AWxzTYn2Odnud0MSdjDM0i1ObXOvDVBQjNEFciMJrhKHJwH5FmDgIPfNds4DuniO75P3r6HNY9BwATNI1Cu+uNpgAAAABJRU5ErkJggg== \"LinkedIn profile\")[LinkedIn profile](https://www.linkedin.com/in/muhanned-almutairi-5bb1a5a0/)"
   ]
  },
  {
   "cell_type": "markdown",
   "metadata": {},
   "source": [
    "## Table of Contents\n",
    "- [Introduction](#intro)\n",
    "- [Part I - Gathering data](#Gathering)\n",
    "- [Part II - Assessing data](#Assessing)\n",
    "- [Part III - Cleaning data](#Cleaning)\n",
    "- [Analysis](#Ana)\n",
    "\n",
    "\n",
    "<a id='intro'></a>\n",
    "### Introduction\n",
    "\n",
    "Real-world data rarely comes clean. Using Python and its libraries, we will gather data from a variety of sources and in a variety of formats, assess its quality and tidiness, then clean it. This is called data wrangling. We will document our wrangling efforts in a Jupyter Notebook, plus showcase them through analyses and visualizations using Python (and its libraries) and/or SQL.\n",
    "\n",
    "The dataset that you will be wrangling (and analyzing and visualizing) is the tweet archive of Twitter user @dog_rates, also known as WeRateDogs. WeRateDogs is a Twitter account that rates people's dogs with a humorous comment about the dog. These ratings almost always have a denominator of 10. The numerators, though? Almost always greater than 10. 11/10, 12/10, 13/10, etc. Why? Because \"they're good dogs Brent.\" WeRateDogs has over 4 million followers and has received international media coverage.\n",
    "\n",
    "WeRateDogs downloaded their Twitter archive and sent it to Udacity via email exclusively for us to use in this project. This archive contains basic tweet data (tweet ID, timestamp, text, etc.) for all 5000+ of their tweets as they stood on August 1, 2017. More on this soon.\n",
    "\n",
    "<a id='Gathering'></a>\n",
    "#### Part I - Gathering data\n",
    "\n",
    "To get started, let's import our libraries."
   ]
  },
  {
   "cell_type": "code",
   "execution_count": 1,
   "metadata": {},
   "outputs": [],
   "source": [
    "import pandas as pd\n",
    "import numpy as np\n",
    "import requests\n",
    "import tweepy\n",
    "import json\n",
    "import re\n",
    "import matplotlib.pyplot as plt\n",
    "import warnings"
   ]
  },
  {
   "cell_type": "markdown",
   "metadata": {},
   "source": [
    "* The WeRateDogs Twitter archive. lets Download this file manually "
   ]
  },
  {
   "cell_type": "code",
   "execution_count": 48,
   "metadata": {},
   "outputs": [],
   "source": [
    "#read twitter archive data\n",
    "twit_arch = pd.read_csv('twitter-archive-enhanced-2.csv', sep=',')"
   ]
  },
  {
   "cell_type": "markdown",
   "metadata": {},
   "source": [
    "* The tweet image predictions\n",
    "    i.e., what breed of dog (or other object, animal, etc.) is present in each tweet according to a neural network. This file (image_predictions.tsv) is hosted on Udacity's servers and should be downloaded programmatically using the Requests library and the following URL: https://d17h27t6h515a5.cloudfront.net/topher/2017/August/599fd2ad_image-predictions/image-predictions.tsv"
   ]
  },
  {
   "cell_type": "code",
   "execution_count": 49,
   "metadata": {},
   "outputs": [
    {
     "data": {
      "text/plain": [
       "335079"
      ]
     },
     "execution_count": 49,
     "metadata": {},
     "output_type": "execute_result"
    }
   ],
   "source": [
    "# Downloading and saving data using Requests\n",
    "url = 'https://d17h27t6h515a5.cloudfront.net/topher/2017/August/599fd2ad_image-predictions/image-predictions.tsv'\n",
    "image_predictions = requests.get(url)\n",
    "open('image_predictions.tsv', 'wb').write(image_predictions.content)"
   ]
  },
  {
   "cell_type": "code",
   "execution_count": 50,
   "metadata": {},
   "outputs": [],
   "source": [
    "#read Image prediction data\n",
    "image_pred = pd.read_csv('image_predictions.tsv', sep = '\\t')"
   ]
  },
  {
   "cell_type": "markdown",
   "metadata": {},
   "source": [
    "Let's demonstrate using twitter API since we had applied for a developer account on twitter and we get rejected. To demonstrate, we used python transcript that was given by Udacity "
   ]
  },
  {
   "cell_type": "code",
   "execution_count": 5,
   "metadata": {},
   "outputs": [
    {
     "name": "stdout",
     "output_type": "stream",
     "text": [
      "1: 892420643555336193\n",
      "Fail\n",
      "2: 892177421306343426\n",
      "Fail\n",
      "3: 891815181378084864\n",
      "Fail\n",
      "4: 891689557279858688\n",
      "Fail\n",
      "5: 891327558926688256\n",
      "Fail\n",
      "6: 891087950875897856\n"
     ]
    },
    {
     "ename": "KeyboardInterrupt",
     "evalue": "",
     "output_type": "error",
     "traceback": [
      "\u001b[0;31m---------------------------------------------------------------------------\u001b[0m",
      "\u001b[0;31mWantReadError\u001b[0m                             Traceback (most recent call last)",
      "\u001b[0;32m~/miniconda3/lib/python3.7/site-packages/urllib3/contrib/pyopenssl.py\u001b[0m in \u001b[0;36mwrap_socket\u001b[0;34m(self, sock, server_side, do_handshake_on_connect, suppress_ragged_eofs, server_hostname)\u001b[0m\n\u001b[1;32m    484\u001b[0m             \u001b[0;32mtry\u001b[0m\u001b[0;34m:\u001b[0m\u001b[0;34m\u001b[0m\u001b[0;34m\u001b[0m\u001b[0m\n\u001b[0;32m--> 485\u001b[0;31m                 \u001b[0mcnx\u001b[0m\u001b[0;34m.\u001b[0m\u001b[0mdo_handshake\u001b[0m\u001b[0;34m(\u001b[0m\u001b[0;34m)\u001b[0m\u001b[0;34m\u001b[0m\u001b[0;34m\u001b[0m\u001b[0m\n\u001b[0m\u001b[1;32m    486\u001b[0m             \u001b[0;32mexcept\u001b[0m \u001b[0mOpenSSL\u001b[0m\u001b[0;34m.\u001b[0m\u001b[0mSSL\u001b[0m\u001b[0;34m.\u001b[0m\u001b[0mWantReadError\u001b[0m\u001b[0;34m:\u001b[0m\u001b[0;34m\u001b[0m\u001b[0;34m\u001b[0m\u001b[0m\n",
      "\u001b[0;32m~/miniconda3/lib/python3.7/site-packages/OpenSSL/SSL.py\u001b[0m in \u001b[0;36mdo_handshake\u001b[0;34m(self)\u001b[0m\n\u001b[1;32m   1933\u001b[0m         \u001b[0mresult\u001b[0m \u001b[0;34m=\u001b[0m \u001b[0m_lib\u001b[0m\u001b[0;34m.\u001b[0m\u001b[0mSSL_do_handshake\u001b[0m\u001b[0;34m(\u001b[0m\u001b[0mself\u001b[0m\u001b[0;34m.\u001b[0m\u001b[0m_ssl\u001b[0m\u001b[0;34m)\u001b[0m\u001b[0;34m\u001b[0m\u001b[0;34m\u001b[0m\u001b[0m\n\u001b[0;32m-> 1934\u001b[0;31m         \u001b[0mself\u001b[0m\u001b[0;34m.\u001b[0m\u001b[0m_raise_ssl_error\u001b[0m\u001b[0;34m(\u001b[0m\u001b[0mself\u001b[0m\u001b[0;34m.\u001b[0m\u001b[0m_ssl\u001b[0m\u001b[0;34m,\u001b[0m \u001b[0mresult\u001b[0m\u001b[0;34m)\u001b[0m\u001b[0;34m\u001b[0m\u001b[0;34m\u001b[0m\u001b[0m\n\u001b[0m\u001b[1;32m   1935\u001b[0m \u001b[0;34m\u001b[0m\u001b[0m\n",
      "\u001b[0;32m~/miniconda3/lib/python3.7/site-packages/OpenSSL/SSL.py\u001b[0m in \u001b[0;36m_raise_ssl_error\u001b[0;34m(self, ssl, result)\u001b[0m\n\u001b[1;32m   1645\u001b[0m         \u001b[0;32mif\u001b[0m \u001b[0merror\u001b[0m \u001b[0;34m==\u001b[0m \u001b[0m_lib\u001b[0m\u001b[0;34m.\u001b[0m\u001b[0mSSL_ERROR_WANT_READ\u001b[0m\u001b[0;34m:\u001b[0m\u001b[0;34m\u001b[0m\u001b[0;34m\u001b[0m\u001b[0m\n\u001b[0;32m-> 1646\u001b[0;31m             \u001b[0;32mraise\u001b[0m \u001b[0mWantReadError\u001b[0m\u001b[0;34m(\u001b[0m\u001b[0;34m)\u001b[0m\u001b[0;34m\u001b[0m\u001b[0;34m\u001b[0m\u001b[0m\n\u001b[0m\u001b[1;32m   1647\u001b[0m         \u001b[0;32melif\u001b[0m \u001b[0merror\u001b[0m \u001b[0;34m==\u001b[0m \u001b[0m_lib\u001b[0m\u001b[0;34m.\u001b[0m\u001b[0mSSL_ERROR_WANT_WRITE\u001b[0m\u001b[0;34m:\u001b[0m\u001b[0;34m\u001b[0m\u001b[0;34m\u001b[0m\u001b[0m\n",
      "\u001b[0;31mWantReadError\u001b[0m: ",
      "\nDuring handling of the above exception, another exception occurred:\n",
      "\u001b[0;31mKeyboardInterrupt\u001b[0m                         Traceback (most recent call last)",
      "\u001b[0;32m<ipython-input-5-31858ff5bb31>\u001b[0m in \u001b[0;36m<module>\u001b[0;34m\u001b[0m\n\u001b[1;32m     37\u001b[0m         \u001b[0mprint\u001b[0m\u001b[0;34m(\u001b[0m\u001b[0mstr\u001b[0m\u001b[0;34m(\u001b[0m\u001b[0mcount\u001b[0m\u001b[0;34m)\u001b[0m \u001b[0;34m+\u001b[0m \u001b[0;34m\": \"\u001b[0m \u001b[0;34m+\u001b[0m \u001b[0mstr\u001b[0m\u001b[0;34m(\u001b[0m\u001b[0mtweet_id\u001b[0m\u001b[0;34m)\u001b[0m\u001b[0;34m)\u001b[0m\u001b[0;34m\u001b[0m\u001b[0;34m\u001b[0m\u001b[0m\n\u001b[1;32m     38\u001b[0m         \u001b[0;32mtry\u001b[0m\u001b[0;34m:\u001b[0m\u001b[0;34m\u001b[0m\u001b[0;34m\u001b[0m\u001b[0m\n\u001b[0;32m---> 39\u001b[0;31m             \u001b[0mtweet\u001b[0m \u001b[0;34m=\u001b[0m \u001b[0mapi\u001b[0m\u001b[0;34m.\u001b[0m\u001b[0mget_status\u001b[0m\u001b[0;34m(\u001b[0m\u001b[0mtweet_id\u001b[0m\u001b[0;34m,\u001b[0m \u001b[0mtweet_mode\u001b[0m\u001b[0;34m=\u001b[0m\u001b[0;34m'extended'\u001b[0m\u001b[0;34m)\u001b[0m\u001b[0;34m\u001b[0m\u001b[0;34m\u001b[0m\u001b[0m\n\u001b[0m\u001b[1;32m     40\u001b[0m             \u001b[0mprint\u001b[0m\u001b[0;34m(\u001b[0m\u001b[0;34m\"Success\"\u001b[0m\u001b[0;34m)\u001b[0m\u001b[0;34m\u001b[0m\u001b[0;34m\u001b[0m\u001b[0m\n\u001b[1;32m     41\u001b[0m             \u001b[0mjson\u001b[0m\u001b[0;34m.\u001b[0m\u001b[0mdump\u001b[0m\u001b[0;34m(\u001b[0m\u001b[0mtweet\u001b[0m\u001b[0;34m.\u001b[0m\u001b[0m_json\u001b[0m\u001b[0;34m,\u001b[0m \u001b[0moutfile\u001b[0m\u001b[0;34m)\u001b[0m\u001b[0;34m\u001b[0m\u001b[0;34m\u001b[0m\u001b[0m\n",
      "\u001b[0;32m~/miniconda3/lib/python3.7/site-packages/tweepy/binder.py\u001b[0m in \u001b[0;36m_call\u001b[0;34m(*args, **kwargs)\u001b[0m\n\u001b[1;32m    248\u001b[0m                 \u001b[0;32mreturn\u001b[0m \u001b[0mmethod\u001b[0m\u001b[0;34m\u001b[0m\u001b[0;34m\u001b[0m\u001b[0m\n\u001b[1;32m    249\u001b[0m             \u001b[0;32melse\u001b[0m\u001b[0;34m:\u001b[0m\u001b[0;34m\u001b[0m\u001b[0;34m\u001b[0m\u001b[0m\n\u001b[0;32m--> 250\u001b[0;31m                 \u001b[0;32mreturn\u001b[0m \u001b[0mmethod\u001b[0m\u001b[0;34m.\u001b[0m\u001b[0mexecute\u001b[0m\u001b[0;34m(\u001b[0m\u001b[0;34m)\u001b[0m\u001b[0;34m\u001b[0m\u001b[0;34m\u001b[0m\u001b[0m\n\u001b[0m\u001b[1;32m    251\u001b[0m         \u001b[0;32mfinally\u001b[0m\u001b[0;34m:\u001b[0m\u001b[0;34m\u001b[0m\u001b[0;34m\u001b[0m\u001b[0m\n\u001b[1;32m    252\u001b[0m             \u001b[0mmethod\u001b[0m\u001b[0;34m.\u001b[0m\u001b[0msession\u001b[0m\u001b[0;34m.\u001b[0m\u001b[0mclose\u001b[0m\u001b[0;34m(\u001b[0m\u001b[0;34m)\u001b[0m\u001b[0;34m\u001b[0m\u001b[0;34m\u001b[0m\u001b[0m\n",
      "\u001b[0;32m~/miniconda3/lib/python3.7/site-packages/tweepy/binder.py\u001b[0m in \u001b[0;36mexecute\u001b[0;34m(self)\u001b[0m\n\u001b[1;32m    187\u001b[0m                                                 \u001b[0mtimeout\u001b[0m\u001b[0;34m=\u001b[0m\u001b[0mself\u001b[0m\u001b[0;34m.\u001b[0m\u001b[0mapi\u001b[0m\u001b[0;34m.\u001b[0m\u001b[0mtimeout\u001b[0m\u001b[0;34m,\u001b[0m\u001b[0;34m\u001b[0m\u001b[0;34m\u001b[0m\u001b[0m\n\u001b[1;32m    188\u001b[0m                                                 \u001b[0mauth\u001b[0m\u001b[0;34m=\u001b[0m\u001b[0mauth\u001b[0m\u001b[0;34m,\u001b[0m\u001b[0;34m\u001b[0m\u001b[0;34m\u001b[0m\u001b[0m\n\u001b[0;32m--> 189\u001b[0;31m                                                 proxies=self.api.proxy)\n\u001b[0m\u001b[1;32m    190\u001b[0m                 \u001b[0;32mexcept\u001b[0m \u001b[0mException\u001b[0m \u001b[0;32mas\u001b[0m \u001b[0me\u001b[0m\u001b[0;34m:\u001b[0m\u001b[0;34m\u001b[0m\u001b[0;34m\u001b[0m\u001b[0m\n\u001b[1;32m    191\u001b[0m                     \u001b[0msix\u001b[0m\u001b[0;34m.\u001b[0m\u001b[0mreraise\u001b[0m\u001b[0;34m(\u001b[0m\u001b[0mTweepError\u001b[0m\u001b[0;34m,\u001b[0m \u001b[0mTweepError\u001b[0m\u001b[0;34m(\u001b[0m\u001b[0;34m'Failed to send request: %s'\u001b[0m \u001b[0;34m%\u001b[0m \u001b[0me\u001b[0m\u001b[0;34m)\u001b[0m\u001b[0;34m,\u001b[0m \u001b[0msys\u001b[0m\u001b[0;34m.\u001b[0m\u001b[0mexc_info\u001b[0m\u001b[0;34m(\u001b[0m\u001b[0;34m)\u001b[0m\u001b[0;34m[\u001b[0m\u001b[0;36m2\u001b[0m\u001b[0;34m]\u001b[0m\u001b[0;34m)\u001b[0m\u001b[0;34m\u001b[0m\u001b[0;34m\u001b[0m\u001b[0m\n",
      "\u001b[0;32m~/miniconda3/lib/python3.7/site-packages/requests/sessions.py\u001b[0m in \u001b[0;36mrequest\u001b[0;34m(self, method, url, params, data, headers, cookies, files, auth, timeout, allow_redirects, proxies, hooks, stream, verify, cert, json)\u001b[0m\n\u001b[1;32m    531\u001b[0m         }\n\u001b[1;32m    532\u001b[0m         \u001b[0msend_kwargs\u001b[0m\u001b[0;34m.\u001b[0m\u001b[0mupdate\u001b[0m\u001b[0;34m(\u001b[0m\u001b[0msettings\u001b[0m\u001b[0;34m)\u001b[0m\u001b[0;34m\u001b[0m\u001b[0;34m\u001b[0m\u001b[0m\n\u001b[0;32m--> 533\u001b[0;31m         \u001b[0mresp\u001b[0m \u001b[0;34m=\u001b[0m \u001b[0mself\u001b[0m\u001b[0;34m.\u001b[0m\u001b[0msend\u001b[0m\u001b[0;34m(\u001b[0m\u001b[0mprep\u001b[0m\u001b[0;34m,\u001b[0m \u001b[0;34m**\u001b[0m\u001b[0msend_kwargs\u001b[0m\u001b[0;34m)\u001b[0m\u001b[0;34m\u001b[0m\u001b[0;34m\u001b[0m\u001b[0m\n\u001b[0m\u001b[1;32m    534\u001b[0m \u001b[0;34m\u001b[0m\u001b[0m\n\u001b[1;32m    535\u001b[0m         \u001b[0;32mreturn\u001b[0m \u001b[0mresp\u001b[0m\u001b[0;34m\u001b[0m\u001b[0;34m\u001b[0m\u001b[0m\n",
      "\u001b[0;32m~/miniconda3/lib/python3.7/site-packages/requests/sessions.py\u001b[0m in \u001b[0;36msend\u001b[0;34m(self, request, **kwargs)\u001b[0m\n\u001b[1;32m    644\u001b[0m \u001b[0;34m\u001b[0m\u001b[0m\n\u001b[1;32m    645\u001b[0m         \u001b[0;31m# Send the request\u001b[0m\u001b[0;34m\u001b[0m\u001b[0;34m\u001b[0m\u001b[0;34m\u001b[0m\u001b[0m\n\u001b[0;32m--> 646\u001b[0;31m         \u001b[0mr\u001b[0m \u001b[0;34m=\u001b[0m \u001b[0madapter\u001b[0m\u001b[0;34m.\u001b[0m\u001b[0msend\u001b[0m\u001b[0;34m(\u001b[0m\u001b[0mrequest\u001b[0m\u001b[0;34m,\u001b[0m \u001b[0;34m**\u001b[0m\u001b[0mkwargs\u001b[0m\u001b[0;34m)\u001b[0m\u001b[0;34m\u001b[0m\u001b[0;34m\u001b[0m\u001b[0m\n\u001b[0m\u001b[1;32m    647\u001b[0m \u001b[0;34m\u001b[0m\u001b[0m\n\u001b[1;32m    648\u001b[0m         \u001b[0;31m# Total elapsed time of the request (approximately)\u001b[0m\u001b[0;34m\u001b[0m\u001b[0;34m\u001b[0m\u001b[0;34m\u001b[0m\u001b[0m\n",
      "\u001b[0;32m~/miniconda3/lib/python3.7/site-packages/requests/adapters.py\u001b[0m in \u001b[0;36msend\u001b[0;34m(self, request, stream, timeout, verify, cert, proxies)\u001b[0m\n\u001b[1;32m    447\u001b[0m                     \u001b[0mdecode_content\u001b[0m\u001b[0;34m=\u001b[0m\u001b[0;32mFalse\u001b[0m\u001b[0;34m,\u001b[0m\u001b[0;34m\u001b[0m\u001b[0;34m\u001b[0m\u001b[0m\n\u001b[1;32m    448\u001b[0m                     \u001b[0mretries\u001b[0m\u001b[0;34m=\u001b[0m\u001b[0mself\u001b[0m\u001b[0;34m.\u001b[0m\u001b[0mmax_retries\u001b[0m\u001b[0;34m,\u001b[0m\u001b[0;34m\u001b[0m\u001b[0;34m\u001b[0m\u001b[0m\n\u001b[0;32m--> 449\u001b[0;31m                     \u001b[0mtimeout\u001b[0m\u001b[0;34m=\u001b[0m\u001b[0mtimeout\u001b[0m\u001b[0;34m\u001b[0m\u001b[0;34m\u001b[0m\u001b[0m\n\u001b[0m\u001b[1;32m    450\u001b[0m                 )\n\u001b[1;32m    451\u001b[0m \u001b[0;34m\u001b[0m\u001b[0m\n",
      "\u001b[0;32m~/miniconda3/lib/python3.7/site-packages/urllib3/connectionpool.py\u001b[0m in \u001b[0;36murlopen\u001b[0;34m(self, method, url, body, headers, retries, redirect, assert_same_host, timeout, pool_timeout, release_conn, chunked, body_pos, **response_kw)\u001b[0m\n\u001b[1;32m    670\u001b[0m                 \u001b[0mbody\u001b[0m\u001b[0;34m=\u001b[0m\u001b[0mbody\u001b[0m\u001b[0;34m,\u001b[0m\u001b[0;34m\u001b[0m\u001b[0;34m\u001b[0m\u001b[0m\n\u001b[1;32m    671\u001b[0m                 \u001b[0mheaders\u001b[0m\u001b[0;34m=\u001b[0m\u001b[0mheaders\u001b[0m\u001b[0;34m,\u001b[0m\u001b[0;34m\u001b[0m\u001b[0;34m\u001b[0m\u001b[0m\n\u001b[0;32m--> 672\u001b[0;31m                 \u001b[0mchunked\u001b[0m\u001b[0;34m=\u001b[0m\u001b[0mchunked\u001b[0m\u001b[0;34m,\u001b[0m\u001b[0;34m\u001b[0m\u001b[0;34m\u001b[0m\u001b[0m\n\u001b[0m\u001b[1;32m    673\u001b[0m             )\n\u001b[1;32m    674\u001b[0m \u001b[0;34m\u001b[0m\u001b[0m\n",
      "\u001b[0;32m~/miniconda3/lib/python3.7/site-packages/urllib3/connectionpool.py\u001b[0m in \u001b[0;36m_make_request\u001b[0;34m(self, conn, method, url, timeout, chunked, **httplib_request_kw)\u001b[0m\n\u001b[1;32m    374\u001b[0m         \u001b[0;31m# Trigger any extra validation we need to do.\u001b[0m\u001b[0;34m\u001b[0m\u001b[0;34m\u001b[0m\u001b[0;34m\u001b[0m\u001b[0m\n\u001b[1;32m    375\u001b[0m         \u001b[0;32mtry\u001b[0m\u001b[0;34m:\u001b[0m\u001b[0;34m\u001b[0m\u001b[0;34m\u001b[0m\u001b[0m\n\u001b[0;32m--> 376\u001b[0;31m             \u001b[0mself\u001b[0m\u001b[0;34m.\u001b[0m\u001b[0m_validate_conn\u001b[0m\u001b[0;34m(\u001b[0m\u001b[0mconn\u001b[0m\u001b[0;34m)\u001b[0m\u001b[0;34m\u001b[0m\u001b[0;34m\u001b[0m\u001b[0m\n\u001b[0m\u001b[1;32m    377\u001b[0m         \u001b[0;32mexcept\u001b[0m \u001b[0;34m(\u001b[0m\u001b[0mSocketTimeout\u001b[0m\u001b[0;34m,\u001b[0m \u001b[0mBaseSSLError\u001b[0m\u001b[0;34m)\u001b[0m \u001b[0;32mas\u001b[0m \u001b[0me\u001b[0m\u001b[0;34m:\u001b[0m\u001b[0;34m\u001b[0m\u001b[0;34m\u001b[0m\u001b[0m\n\u001b[1;32m    378\u001b[0m             \u001b[0;31m# Py2 raises this as a BaseSSLError, Py3 raises it as socket timeout.\u001b[0m\u001b[0;34m\u001b[0m\u001b[0;34m\u001b[0m\u001b[0;34m\u001b[0m\u001b[0m\n",
      "\u001b[0;32m~/miniconda3/lib/python3.7/site-packages/urllib3/connectionpool.py\u001b[0m in \u001b[0;36m_validate_conn\u001b[0;34m(self, conn)\u001b[0m\n\u001b[1;32m    992\u001b[0m         \u001b[0;31m# Force connect early to allow us to validate the connection.\u001b[0m\u001b[0;34m\u001b[0m\u001b[0;34m\u001b[0m\u001b[0;34m\u001b[0m\u001b[0m\n\u001b[1;32m    993\u001b[0m         \u001b[0;32mif\u001b[0m \u001b[0;32mnot\u001b[0m \u001b[0mgetattr\u001b[0m\u001b[0;34m(\u001b[0m\u001b[0mconn\u001b[0m\u001b[0;34m,\u001b[0m \u001b[0;34m\"sock\"\u001b[0m\u001b[0;34m,\u001b[0m \u001b[0;32mNone\u001b[0m\u001b[0;34m)\u001b[0m\u001b[0;34m:\u001b[0m  \u001b[0;31m# AppEngine might not have  `.sock`\u001b[0m\u001b[0;34m\u001b[0m\u001b[0;34m\u001b[0m\u001b[0m\n\u001b[0;32m--> 994\u001b[0;31m             \u001b[0mconn\u001b[0m\u001b[0;34m.\u001b[0m\u001b[0mconnect\u001b[0m\u001b[0;34m(\u001b[0m\u001b[0;34m)\u001b[0m\u001b[0;34m\u001b[0m\u001b[0;34m\u001b[0m\u001b[0m\n\u001b[0m\u001b[1;32m    995\u001b[0m \u001b[0;34m\u001b[0m\u001b[0m\n\u001b[1;32m    996\u001b[0m         \u001b[0;32mif\u001b[0m \u001b[0;32mnot\u001b[0m \u001b[0mconn\u001b[0m\u001b[0;34m.\u001b[0m\u001b[0mis_verified\u001b[0m\u001b[0;34m:\u001b[0m\u001b[0;34m\u001b[0m\u001b[0;34m\u001b[0m\u001b[0m\n",
      "\u001b[0;32m~/miniconda3/lib/python3.7/site-packages/urllib3/connection.py\u001b[0m in \u001b[0;36mconnect\u001b[0;34m(self)\u001b[0m\n\u001b[1;32m    358\u001b[0m             \u001b[0mca_cert_dir\u001b[0m\u001b[0;34m=\u001b[0m\u001b[0mself\u001b[0m\u001b[0;34m.\u001b[0m\u001b[0mca_cert_dir\u001b[0m\u001b[0;34m,\u001b[0m\u001b[0;34m\u001b[0m\u001b[0;34m\u001b[0m\u001b[0m\n\u001b[1;32m    359\u001b[0m             \u001b[0mserver_hostname\u001b[0m\u001b[0;34m=\u001b[0m\u001b[0mserver_hostname\u001b[0m\u001b[0;34m,\u001b[0m\u001b[0;34m\u001b[0m\u001b[0;34m\u001b[0m\u001b[0m\n\u001b[0;32m--> 360\u001b[0;31m             \u001b[0mssl_context\u001b[0m\u001b[0;34m=\u001b[0m\u001b[0mcontext\u001b[0m\u001b[0;34m,\u001b[0m\u001b[0;34m\u001b[0m\u001b[0;34m\u001b[0m\u001b[0m\n\u001b[0m\u001b[1;32m    361\u001b[0m         )\n\u001b[1;32m    362\u001b[0m \u001b[0;34m\u001b[0m\u001b[0m\n",
      "\u001b[0;32m~/miniconda3/lib/python3.7/site-packages/urllib3/util/ssl_.py\u001b[0m in \u001b[0;36mssl_wrap_socket\u001b[0;34m(sock, keyfile, certfile, cert_reqs, ca_certs, server_hostname, ssl_version, ciphers, ssl_context, ca_cert_dir, key_password)\u001b[0m\n\u001b[1;32m    368\u001b[0m     ) or IS_SECURETRANSPORT:\n\u001b[1;32m    369\u001b[0m         \u001b[0;32mif\u001b[0m \u001b[0mHAS_SNI\u001b[0m \u001b[0;32mand\u001b[0m \u001b[0mserver_hostname\u001b[0m \u001b[0;32mis\u001b[0m \u001b[0;32mnot\u001b[0m \u001b[0;32mNone\u001b[0m\u001b[0;34m:\u001b[0m\u001b[0;34m\u001b[0m\u001b[0;34m\u001b[0m\u001b[0m\n\u001b[0;32m--> 370\u001b[0;31m             \u001b[0;32mreturn\u001b[0m \u001b[0mcontext\u001b[0m\u001b[0;34m.\u001b[0m\u001b[0mwrap_socket\u001b[0m\u001b[0;34m(\u001b[0m\u001b[0msock\u001b[0m\u001b[0;34m,\u001b[0m \u001b[0mserver_hostname\u001b[0m\u001b[0;34m=\u001b[0m\u001b[0mserver_hostname\u001b[0m\u001b[0;34m)\u001b[0m\u001b[0;34m\u001b[0m\u001b[0;34m\u001b[0m\u001b[0m\n\u001b[0m\u001b[1;32m    371\u001b[0m \u001b[0;34m\u001b[0m\u001b[0m\n\u001b[1;32m    372\u001b[0m         warnings.warn(\n",
      "\u001b[0;32m~/miniconda3/lib/python3.7/site-packages/urllib3/contrib/pyopenssl.py\u001b[0m in \u001b[0;36mwrap_socket\u001b[0;34m(self, sock, server_side, do_handshake_on_connect, suppress_ragged_eofs, server_hostname)\u001b[0m\n\u001b[1;32m    485\u001b[0m                 \u001b[0mcnx\u001b[0m\u001b[0;34m.\u001b[0m\u001b[0mdo_handshake\u001b[0m\u001b[0;34m(\u001b[0m\u001b[0;34m)\u001b[0m\u001b[0;34m\u001b[0m\u001b[0;34m\u001b[0m\u001b[0m\n\u001b[1;32m    486\u001b[0m             \u001b[0;32mexcept\u001b[0m \u001b[0mOpenSSL\u001b[0m\u001b[0;34m.\u001b[0m\u001b[0mSSL\u001b[0m\u001b[0;34m.\u001b[0m\u001b[0mWantReadError\u001b[0m\u001b[0;34m:\u001b[0m\u001b[0;34m\u001b[0m\u001b[0;34m\u001b[0m\u001b[0m\n\u001b[0;32m--> 487\u001b[0;31m                 \u001b[0;32mif\u001b[0m \u001b[0;32mnot\u001b[0m \u001b[0mutil\u001b[0m\u001b[0;34m.\u001b[0m\u001b[0mwait_for_read\u001b[0m\u001b[0;34m(\u001b[0m\u001b[0msock\u001b[0m\u001b[0;34m,\u001b[0m \u001b[0msock\u001b[0m\u001b[0;34m.\u001b[0m\u001b[0mgettimeout\u001b[0m\u001b[0;34m(\u001b[0m\u001b[0;34m)\u001b[0m\u001b[0;34m)\u001b[0m\u001b[0;34m:\u001b[0m\u001b[0;34m\u001b[0m\u001b[0;34m\u001b[0m\u001b[0m\n\u001b[0m\u001b[1;32m    488\u001b[0m                     \u001b[0;32mraise\u001b[0m \u001b[0mtimeout\u001b[0m\u001b[0;34m(\u001b[0m\u001b[0;34m\"select timed out\"\u001b[0m\u001b[0;34m)\u001b[0m\u001b[0;34m\u001b[0m\u001b[0;34m\u001b[0m\u001b[0m\n\u001b[1;32m    489\u001b[0m                 \u001b[0;32mcontinue\u001b[0m\u001b[0;34m\u001b[0m\u001b[0;34m\u001b[0m\u001b[0m\n",
      "\u001b[0;32m~/miniconda3/lib/python3.7/site-packages/urllib3/util/wait.py\u001b[0m in \u001b[0;36mwait_for_read\u001b[0;34m(sock, timeout)\u001b[0m\n\u001b[1;32m    144\u001b[0m     \u001b[0mReturns\u001b[0m \u001b[0;32mTrue\u001b[0m \u001b[0;32mif\u001b[0m \u001b[0mthe\u001b[0m \u001b[0msocket\u001b[0m \u001b[0;32mis\u001b[0m \u001b[0mreadable\u001b[0m\u001b[0;34m,\u001b[0m \u001b[0;32mor\u001b[0m \u001b[0;32mFalse\u001b[0m \u001b[0;32mif\u001b[0m \u001b[0mthe\u001b[0m \u001b[0mtimeout\u001b[0m \u001b[0mexpired\u001b[0m\u001b[0;34m.\u001b[0m\u001b[0;34m\u001b[0m\u001b[0;34m\u001b[0m\u001b[0m\n\u001b[1;32m    145\u001b[0m     \"\"\"\n\u001b[0;32m--> 146\u001b[0;31m     \u001b[0;32mreturn\u001b[0m \u001b[0mwait_for_socket\u001b[0m\u001b[0;34m(\u001b[0m\u001b[0msock\u001b[0m\u001b[0;34m,\u001b[0m \u001b[0mread\u001b[0m\u001b[0;34m=\u001b[0m\u001b[0;32mTrue\u001b[0m\u001b[0;34m,\u001b[0m \u001b[0mtimeout\u001b[0m\u001b[0;34m=\u001b[0m\u001b[0mtimeout\u001b[0m\u001b[0;34m)\u001b[0m\u001b[0;34m\u001b[0m\u001b[0;34m\u001b[0m\u001b[0m\n\u001b[0m\u001b[1;32m    147\u001b[0m \u001b[0;34m\u001b[0m\u001b[0m\n\u001b[1;32m    148\u001b[0m \u001b[0;34m\u001b[0m\u001b[0m\n",
      "\u001b[0;32m~/miniconda3/lib/python3.7/site-packages/urllib3/util/wait.py\u001b[0m in \u001b[0;36mpoll_wait_for_socket\u001b[0;34m(sock, read, write, timeout)\u001b[0m\n\u001b[1;32m    105\u001b[0m         \u001b[0;32mreturn\u001b[0m \u001b[0mpoll_obj\u001b[0m\u001b[0;34m.\u001b[0m\u001b[0mpoll\u001b[0m\u001b[0;34m(\u001b[0m\u001b[0mt\u001b[0m\u001b[0;34m)\u001b[0m\u001b[0;34m\u001b[0m\u001b[0;34m\u001b[0m\u001b[0m\n\u001b[1;32m    106\u001b[0m \u001b[0;34m\u001b[0m\u001b[0m\n\u001b[0;32m--> 107\u001b[0;31m     \u001b[0;32mreturn\u001b[0m \u001b[0mbool\u001b[0m\u001b[0;34m(\u001b[0m\u001b[0m_retry_on_intr\u001b[0m\u001b[0;34m(\u001b[0m\u001b[0mdo_poll\u001b[0m\u001b[0;34m,\u001b[0m \u001b[0mtimeout\u001b[0m\u001b[0;34m)\u001b[0m\u001b[0;34m)\u001b[0m\u001b[0;34m\u001b[0m\u001b[0;34m\u001b[0m\u001b[0m\n\u001b[0m\u001b[1;32m    108\u001b[0m \u001b[0;34m\u001b[0m\u001b[0m\n\u001b[1;32m    109\u001b[0m \u001b[0;34m\u001b[0m\u001b[0m\n",
      "\u001b[0;32m~/miniconda3/lib/python3.7/site-packages/urllib3/util/wait.py\u001b[0m in \u001b[0;36m_retry_on_intr\u001b[0;34m(fn, timeout)\u001b[0m\n\u001b[1;32m     41\u001b[0m     \u001b[0;31m# Modern Python, that retries syscalls by default\u001b[0m\u001b[0;34m\u001b[0m\u001b[0;34m\u001b[0m\u001b[0;34m\u001b[0m\u001b[0m\n\u001b[1;32m     42\u001b[0m     \u001b[0;32mdef\u001b[0m \u001b[0m_retry_on_intr\u001b[0m\u001b[0;34m(\u001b[0m\u001b[0mfn\u001b[0m\u001b[0;34m,\u001b[0m \u001b[0mtimeout\u001b[0m\u001b[0;34m)\u001b[0m\u001b[0;34m:\u001b[0m\u001b[0;34m\u001b[0m\u001b[0;34m\u001b[0m\u001b[0m\n\u001b[0;32m---> 43\u001b[0;31m         \u001b[0;32mreturn\u001b[0m \u001b[0mfn\u001b[0m\u001b[0;34m(\u001b[0m\u001b[0mtimeout\u001b[0m\u001b[0;34m)\u001b[0m\u001b[0;34m\u001b[0m\u001b[0;34m\u001b[0m\u001b[0m\n\u001b[0m\u001b[1;32m     44\u001b[0m \u001b[0;34m\u001b[0m\u001b[0m\n\u001b[1;32m     45\u001b[0m \u001b[0;34m\u001b[0m\u001b[0m\n",
      "\u001b[0;32m~/miniconda3/lib/python3.7/site-packages/urllib3/util/wait.py\u001b[0m in \u001b[0;36mdo_poll\u001b[0;34m(t)\u001b[0m\n\u001b[1;32m    103\u001b[0m         \u001b[0;32mif\u001b[0m \u001b[0mt\u001b[0m \u001b[0;32mis\u001b[0m \u001b[0;32mnot\u001b[0m \u001b[0;32mNone\u001b[0m\u001b[0;34m:\u001b[0m\u001b[0;34m\u001b[0m\u001b[0;34m\u001b[0m\u001b[0m\n\u001b[1;32m    104\u001b[0m             \u001b[0mt\u001b[0m \u001b[0;34m*=\u001b[0m \u001b[0;36m1000\u001b[0m\u001b[0;34m\u001b[0m\u001b[0;34m\u001b[0m\u001b[0m\n\u001b[0;32m--> 105\u001b[0;31m         \u001b[0;32mreturn\u001b[0m \u001b[0mpoll_obj\u001b[0m\u001b[0;34m.\u001b[0m\u001b[0mpoll\u001b[0m\u001b[0;34m(\u001b[0m\u001b[0mt\u001b[0m\u001b[0;34m)\u001b[0m\u001b[0;34m\u001b[0m\u001b[0;34m\u001b[0m\u001b[0m\n\u001b[0m\u001b[1;32m    106\u001b[0m \u001b[0;34m\u001b[0m\u001b[0m\n\u001b[1;32m    107\u001b[0m     \u001b[0;32mreturn\u001b[0m \u001b[0mbool\u001b[0m\u001b[0;34m(\u001b[0m\u001b[0m_retry_on_intr\u001b[0m\u001b[0;34m(\u001b[0m\u001b[0mdo_poll\u001b[0m\u001b[0;34m,\u001b[0m \u001b[0mtimeout\u001b[0m\u001b[0;34m)\u001b[0m\u001b[0;34m)\u001b[0m\u001b[0;34m\u001b[0m\u001b[0;34m\u001b[0m\u001b[0m\n",
      "\u001b[0;31mKeyboardInterrupt\u001b[0m: "
     ]
    }
   ],
   "source": [
    "#twtter_api.py\n",
    "import tweepy\n",
    "from tweepy import OAuthHandler\n",
    "import json\n",
    "from timeit import default_timer as timer\n",
    "\n",
    "# Query Twitter API for each tweet in the Twitter archive and save JSON in a text file\n",
    "# These are hidden to comply with Twitter's API terms and conditions\n",
    "consumer_key = 'HIDDEN'\n",
    "consumer_secret = 'HIDDEN'\n",
    "access_token = 'HIDDEN'\n",
    "access_secret = 'HIDDEN'\n",
    "\n",
    "auth = OAuthHandler(consumer_key, consumer_secret)\n",
    "auth.set_access_token(access_token, access_secret)\n",
    "\n",
    "api = tweepy.API(auth, wait_on_rate_limit=True)\n",
    "\n",
    "# NOTE TO STUDENT WITH MOBILE VERIFICATION ISSUES:\n",
    "# df_1 is a DataFrame with the twitter_archive_enhanced.csv file. You may have to\n",
    "# change line 17 to match the name of your DataFrame with twitter_archive_enhanced.csv\n",
    "# NOTE TO REVIEWER: this student had mobile verification issues so the following\n",
    "# Twitter API code was sent to this student from a Udacity instructor\n",
    "# Tweet IDs for which to gather additional data via Twitter's API\n",
    "tweet_ids = twit_arch.tweet_id.values\n",
    "len(tweet_ids)\n",
    "\n",
    "# Query Twitter's API for JSON data for each tweet ID in the Twitter archive\n",
    "count = 0\n",
    "fails_dict = {}\n",
    "start = timer()\n",
    "# Save each tweet's returned JSON as a new line in a .txt file\n",
    "with open('tweet-json.txt', 'w') as outfile:\n",
    "    # This loop will likely take 20-30 minutes to run because of Twitter's rate limit\n",
    "    for tweet_id in tweet_ids:\n",
    "        count += 1\n",
    "        print(str(count) + \": \" + str(tweet_id))\n",
    "        try:\n",
    "            tweet = api.get_status(tweet_id, tweet_mode='extended')\n",
    "            print(\"Success\")\n",
    "            json.dump(tweet._json, outfile)\n",
    "            outfile.write('\\n')\n",
    "        except tweepy.TweepError as e:\n",
    "            print(\"Fail\")\n",
    "            fails_dict[tweet_id] = e\n",
    "            pass\n",
    "end = timer()\n",
    "print(end - start)\n",
    "print(fails_dict)"
   ]
  },
  {
   "cell_type": "markdown",
   "metadata": {},
   "source": [
    "Each tweet's retweet count and favorite (\"like\") count at minimum,  Each tweet's JSON data. Lets read this tweet_json.txt file line by line into a pandas DataFrame with (at minimum) tweet ID, retweet count, and favorite count."
   ]
  },
  {
   "cell_type": "markdown",
   "metadata": {},
   "source": [
    "* twitter_api.py:\n",
    "    This is the Twitter API code to gather some of the required data for the project. Read the code and comments, understand how the code works, then copy and paste it into your notebook.\n",
    "\n",
    "* tweet_json.txt:\n",
    "    This is the resulting data from twitter_api.py. You can proceed with the following part of \"Gathering Data for this Project\""
   ]
  },
  {
   "cell_type": "code",
   "execution_count": 51,
   "metadata": {},
   "outputs": [],
   "source": [
    "# For loop to append each tweet into a list\n",
    "tweets_data = []\n",
    "\n",
    "tweet_file = open('tweet_json.txt', \"r\")\n",
    "\n",
    "for line in tweet_file:\n",
    "    try:\n",
    "        tweet = json.loads(line)\n",
    "        tweets_data.append(tweet)\n",
    "    except:\n",
    "        continue\n",
    "        \n",
    "tweet_file.close()"
   ]
  },
  {
   "cell_type": "markdown",
   "metadata": {},
   "source": [
    "Lets read this tweet_json.txt file line by line into a pandas DataFrame with (at minimum) tweet ID, retweet count, and favorite count.\""
   ]
  },
  {
   "cell_type": "code",
   "execution_count": 52,
   "metadata": {},
   "outputs": [],
   "source": [
    "twet_df = pd.DataFrame()"
   ]
  },
  {
   "cell_type": "code",
   "execution_count": 53,
   "metadata": {},
   "outputs": [],
   "source": [
    "# Add selected variables to tweet_info DataFrame\n",
    "twet_df['tweet_id'] = list(map(lambda tweet: tweet['id'], tweets_data))\n",
    "twet_df['retweet_count'] = list(map(lambda tweet: tweet['retweet_count'], tweets_data))\n",
    "twet_df['favorite_count'] = list(map(lambda tweet: tweet['favorite_count'], tweets_data))"
   ]
  },
  {
   "cell_type": "code",
   "execution_count": 54,
   "metadata": {},
   "outputs": [
    {
     "name": "stdout",
     "output_type": "stream",
     "text": [
      "<class 'pandas.core.frame.DataFrame'>\n",
      "RangeIndex: 2350 entries, 0 to 2349\n",
      "Data columns (total 3 columns):\n",
      " #   Column          Non-Null Count  Dtype\n",
      "---  ------          --------------  -----\n",
      " 0   tweet_id        2350 non-null   int64\n",
      " 1   retweet_count   2350 non-null   int64\n",
      " 2   favorite_count  2350 non-null   int64\n",
      "dtypes: int64(3)\n",
      "memory usage: 55.2 KB\n"
     ]
    }
   ],
   "source": [
    "twet_df.info()"
   ]
  },
  {
   "cell_type": "markdown",
   "metadata": {},
   "source": [
    "<a id='Assessing'></a>\n",
    "#### Part II - Assessing Data:  Quality and Tidiness Issues"
   ]
  },
  {
   "cell_type": "code",
   "execution_count": 55,
   "metadata": {},
   "outputs": [
    {
     "data": {
      "text/html": [
       "<div>\n",
       "<style scoped>\n",
       "    .dataframe tbody tr th:only-of-type {\n",
       "        vertical-align: middle;\n",
       "    }\n",
       "\n",
       "    .dataframe tbody tr th {\n",
       "        vertical-align: top;\n",
       "    }\n",
       "\n",
       "    .dataframe thead th {\n",
       "        text-align: right;\n",
       "    }\n",
       "</style>\n",
       "<table border=\"1\" class=\"dataframe\">\n",
       "  <thead>\n",
       "    <tr style=\"text-align: right;\">\n",
       "      <th></th>\n",
       "      <th>tweet_id</th>\n",
       "      <th>in_reply_to_status_id</th>\n",
       "      <th>in_reply_to_user_id</th>\n",
       "      <th>timestamp</th>\n",
       "      <th>source</th>\n",
       "      <th>text</th>\n",
       "      <th>retweeted_status_id</th>\n",
       "      <th>retweeted_status_user_id</th>\n",
       "      <th>retweeted_status_timestamp</th>\n",
       "      <th>expanded_urls</th>\n",
       "      <th>rating_numerator</th>\n",
       "      <th>rating_denominator</th>\n",
       "      <th>name</th>\n",
       "      <th>doggo</th>\n",
       "      <th>floofer</th>\n",
       "      <th>pupper</th>\n",
       "      <th>puppo</th>\n",
       "    </tr>\n",
       "  </thead>\n",
       "  <tbody>\n",
       "    <tr>\n",
       "      <th>1470</th>\n",
       "      <td>694001791655137281</td>\n",
       "      <td>NaN</td>\n",
       "      <td>NaN</td>\n",
       "      <td>2016-02-01 03:38:15 +0000</td>\n",
       "      <td>&lt;a href=\"http://twitter.com/download/iphone\" r...</td>\n",
       "      <td>This is Chester. He's a Benefloof Cumberbark. ...</td>\n",
       "      <td>NaN</td>\n",
       "      <td>NaN</td>\n",
       "      <td>NaN</td>\n",
       "      <td>https://twitter.com/dog_rates/status/694001791...</td>\n",
       "      <td>11</td>\n",
       "      <td>10</td>\n",
       "      <td>Chester</td>\n",
       "      <td>None</td>\n",
       "      <td>None</td>\n",
       "      <td>None</td>\n",
       "      <td>None</td>\n",
       "    </tr>\n",
       "    <tr>\n",
       "      <th>594</th>\n",
       "      <td>798705661114773508</td>\n",
       "      <td>NaN</td>\n",
       "      <td>NaN</td>\n",
       "      <td>2016-11-16 01:54:03 +0000</td>\n",
       "      <td>&lt;a href=\"http://twitter.com/download/iphone\" r...</td>\n",
       "      <td>RT @dog_rates: Meet Baloo. He's expecting a fa...</td>\n",
       "      <td>7.406770e+17</td>\n",
       "      <td>4.196984e+09</td>\n",
       "      <td>2016-06-08 22:48:46 +0000</td>\n",
       "      <td>https://twitter.com/dog_rates/status/740676976...</td>\n",
       "      <td>11</td>\n",
       "      <td>10</td>\n",
       "      <td>Baloo</td>\n",
       "      <td>None</td>\n",
       "      <td>None</td>\n",
       "      <td>pupper</td>\n",
       "      <td>None</td>\n",
       "    </tr>\n",
       "    <tr>\n",
       "      <th>413</th>\n",
       "      <td>822872901745569793</td>\n",
       "      <td>NaN</td>\n",
       "      <td>NaN</td>\n",
       "      <td>2017-01-21 18:26:02 +0000</td>\n",
       "      <td>&lt;a href=\"http://twitter.com/download/iphone\" r...</td>\n",
       "      <td>Here's a super supportive puppo participating ...</td>\n",
       "      <td>NaN</td>\n",
       "      <td>NaN</td>\n",
       "      <td>NaN</td>\n",
       "      <td>https://twitter.com/dog_rates/status/822872901...</td>\n",
       "      <td>13</td>\n",
       "      <td>10</td>\n",
       "      <td>None</td>\n",
       "      <td>None</td>\n",
       "      <td>None</td>\n",
       "      <td>None</td>\n",
       "      <td>puppo</td>\n",
       "    </tr>\n",
       "    <tr>\n",
       "      <th>1356</th>\n",
       "      <td>703425003149250560</td>\n",
       "      <td>7.030419e+17</td>\n",
       "      <td>4.196984e+09</td>\n",
       "      <td>2016-02-27 03:42:44 +0000</td>\n",
       "      <td>&lt;a href=\"http://twitter.com/download/iphone\" r...</td>\n",
       "      <td>Really guys? Again? I know this is a rare Alba...</td>\n",
       "      <td>NaN</td>\n",
       "      <td>NaN</td>\n",
       "      <td>NaN</td>\n",
       "      <td>https://twitter.com/dog_rates/status/703425003...</td>\n",
       "      <td>9</td>\n",
       "      <td>10</td>\n",
       "      <td>None</td>\n",
       "      <td>None</td>\n",
       "      <td>None</td>\n",
       "      <td>None</td>\n",
       "      <td>None</td>\n",
       "    </tr>\n",
       "    <tr>\n",
       "      <th>633</th>\n",
       "      <td>793845145112371200</td>\n",
       "      <td>NaN</td>\n",
       "      <td>NaN</td>\n",
       "      <td>2016-11-02 16:00:06 +0000</td>\n",
       "      <td>&lt;a href=\"http://twitter.com/download/iphone\" r...</td>\n",
       "      <td>This is Clark. He was just caught wearing pant...</td>\n",
       "      <td>NaN</td>\n",
       "      <td>NaN</td>\n",
       "      <td>NaN</td>\n",
       "      <td>https://twitter.com/dog_rates/status/793845145...</td>\n",
       "      <td>13</td>\n",
       "      <td>10</td>\n",
       "      <td>Clark</td>\n",
       "      <td>None</td>\n",
       "      <td>None</td>\n",
       "      <td>None</td>\n",
       "      <td>None</td>\n",
       "    </tr>\n",
       "    <tr>\n",
       "      <th>897</th>\n",
       "      <td>759047813560868866</td>\n",
       "      <td>NaN</td>\n",
       "      <td>NaN</td>\n",
       "      <td>2016-07-29 15:27:55 +0000</td>\n",
       "      <td>&lt;a href=\"http://twitter.com/download/iphone\" r...</td>\n",
       "      <td>This is Spencer. He's part of the Queen's Guar...</td>\n",
       "      <td>NaN</td>\n",
       "      <td>NaN</td>\n",
       "      <td>NaN</td>\n",
       "      <td>https://twitter.com/dog_rates/status/759047813...</td>\n",
       "      <td>11</td>\n",
       "      <td>10</td>\n",
       "      <td>Spencer</td>\n",
       "      <td>None</td>\n",
       "      <td>None</td>\n",
       "      <td>None</td>\n",
       "      <td>None</td>\n",
       "    </tr>\n",
       "    <tr>\n",
       "      <th>223</th>\n",
       "      <td>849412302885593088</td>\n",
       "      <td>NaN</td>\n",
       "      <td>NaN</td>\n",
       "      <td>2017-04-05 00:04:08 +0000</td>\n",
       "      <td>&lt;a href=\"http://twitter.com/download/iphone\" r...</td>\n",
       "      <td>This is Noosh. He noticed you were in the show...</td>\n",
       "      <td>NaN</td>\n",
       "      <td>NaN</td>\n",
       "      <td>NaN</td>\n",
       "      <td>https://twitter.com/dog_rates/status/849412302...</td>\n",
       "      <td>12</td>\n",
       "      <td>10</td>\n",
       "      <td>Noosh</td>\n",
       "      <td>None</td>\n",
       "      <td>None</td>\n",
       "      <td>None</td>\n",
       "      <td>None</td>\n",
       "    </tr>\n",
       "    <tr>\n",
       "      <th>2094</th>\n",
       "      <td>670778058496974848</td>\n",
       "      <td>NaN</td>\n",
       "      <td>NaN</td>\n",
       "      <td>2015-11-29 01:35:26 +0000</td>\n",
       "      <td>&lt;a href=\"http://twitter.com/download/iphone\" r...</td>\n",
       "      <td>\"To bone or not to bone?\"\\n10/10 https://t.co/...</td>\n",
       "      <td>NaN</td>\n",
       "      <td>NaN</td>\n",
       "      <td>NaN</td>\n",
       "      <td>https://twitter.com/dog_rates/status/670778058...</td>\n",
       "      <td>10</td>\n",
       "      <td>10</td>\n",
       "      <td>None</td>\n",
       "      <td>None</td>\n",
       "      <td>None</td>\n",
       "      <td>None</td>\n",
       "      <td>None</td>\n",
       "    </tr>\n",
       "    <tr>\n",
       "      <th>72</th>\n",
       "      <td>878604707211726852</td>\n",
       "      <td>NaN</td>\n",
       "      <td>NaN</td>\n",
       "      <td>2017-06-24 13:24:20 +0000</td>\n",
       "      <td>&lt;a href=\"http://twitter.com/download/iphone\" r...</td>\n",
       "      <td>Martha is stunning how h*ckin dare you. 13/10 ...</td>\n",
       "      <td>NaN</td>\n",
       "      <td>NaN</td>\n",
       "      <td>NaN</td>\n",
       "      <td>https://twitter.com/bbcworld/status/8785998685...</td>\n",
       "      <td>13</td>\n",
       "      <td>10</td>\n",
       "      <td>None</td>\n",
       "      <td>None</td>\n",
       "      <td>None</td>\n",
       "      <td>None</td>\n",
       "      <td>None</td>\n",
       "    </tr>\n",
       "    <tr>\n",
       "      <th>884</th>\n",
       "      <td>760190180481531904</td>\n",
       "      <td>NaN</td>\n",
       "      <td>NaN</td>\n",
       "      <td>2016-08-01 19:07:17 +0000</td>\n",
       "      <td>&lt;a href=\"http://twitter.com/download/iphone\" r...</td>\n",
       "      <td>Meet Sadie. She's addicted to balloons. It's t...</td>\n",
       "      <td>NaN</td>\n",
       "      <td>NaN</td>\n",
       "      <td>NaN</td>\n",
       "      <td>https://twitter.com/dog_rates/status/760190180...</td>\n",
       "      <td>10</td>\n",
       "      <td>10</td>\n",
       "      <td>Sadie</td>\n",
       "      <td>None</td>\n",
       "      <td>None</td>\n",
       "      <td>None</td>\n",
       "      <td>None</td>\n",
       "    </tr>\n",
       "    <tr>\n",
       "      <th>1675</th>\n",
       "      <td>682242692827447297</td>\n",
       "      <td>NaN</td>\n",
       "      <td>NaN</td>\n",
       "      <td>2015-12-30 16:51:48 +0000</td>\n",
       "      <td>&lt;a href=\"http://twitter.com/download/iphone\" r...</td>\n",
       "      <td>This is Samson. He patrols his waters on the b...</td>\n",
       "      <td>NaN</td>\n",
       "      <td>NaN</td>\n",
       "      <td>NaN</td>\n",
       "      <td>https://twitter.com/dog_rates/status/682242692...</td>\n",
       "      <td>11</td>\n",
       "      <td>10</td>\n",
       "      <td>Samson</td>\n",
       "      <td>None</td>\n",
       "      <td>None</td>\n",
       "      <td>None</td>\n",
       "      <td>None</td>\n",
       "    </tr>\n",
       "    <tr>\n",
       "      <th>1678</th>\n",
       "      <td>682047327939461121</td>\n",
       "      <td>NaN</td>\n",
       "      <td>NaN</td>\n",
       "      <td>2015-12-30 03:55:29 +0000</td>\n",
       "      <td>&lt;a href=\"http://twitter.com/download/iphone\" r...</td>\n",
       "      <td>We normally don't rate bears but this one seem...</td>\n",
       "      <td>NaN</td>\n",
       "      <td>NaN</td>\n",
       "      <td>NaN</td>\n",
       "      <td>https://twitter.com/dog_rates/status/682047327...</td>\n",
       "      <td>10</td>\n",
       "      <td>10</td>\n",
       "      <td>None</td>\n",
       "      <td>None</td>\n",
       "      <td>None</td>\n",
       "      <td>None</td>\n",
       "      <td>None</td>\n",
       "    </tr>\n",
       "    <tr>\n",
       "      <th>975</th>\n",
       "      <td>750041628174217216</td>\n",
       "      <td>NaN</td>\n",
       "      <td>NaN</td>\n",
       "      <td>2016-07-04 19:00:33 +0000</td>\n",
       "      <td>&lt;a href=\"https://about.twitter.com/products/tw...</td>\n",
       "      <td>This is Beau. He's trying to keep his daddy fr...</td>\n",
       "      <td>NaN</td>\n",
       "      <td>NaN</td>\n",
       "      <td>NaN</td>\n",
       "      <td>https://twitter.com/dog_rates/status/750041628...</td>\n",
       "      <td>13</td>\n",
       "      <td>10</td>\n",
       "      <td>Beau</td>\n",
       "      <td>None</td>\n",
       "      <td>None</td>\n",
       "      <td>None</td>\n",
       "      <td>None</td>\n",
       "    </tr>\n",
       "    <tr>\n",
       "      <th>784</th>\n",
       "      <td>775096608509886464</td>\n",
       "      <td>NaN</td>\n",
       "      <td>NaN</td>\n",
       "      <td>2016-09-11 22:20:06 +0000</td>\n",
       "      <td>&lt;a href=\"http://twitter.com/download/iphone\" r...</td>\n",
       "      <td>RT @dog_rates: After so many requests, this is...</td>\n",
       "      <td>7.403732e+17</td>\n",
       "      <td>4.196984e+09</td>\n",
       "      <td>2016-06-08 02:41:38 +0000</td>\n",
       "      <td>https://twitter.com/dog_rates/status/740373189...</td>\n",
       "      <td>9</td>\n",
       "      <td>11</td>\n",
       "      <td>None</td>\n",
       "      <td>None</td>\n",
       "      <td>None</td>\n",
       "      <td>None</td>\n",
       "      <td>None</td>\n",
       "    </tr>\n",
       "    <tr>\n",
       "      <th>1990</th>\n",
       "      <td>672640509974827008</td>\n",
       "      <td>NaN</td>\n",
       "      <td>NaN</td>\n",
       "      <td>2015-12-04 04:56:09 +0000</td>\n",
       "      <td>&lt;a href=\"http://twitter.com/download/iphone\" r...</td>\n",
       "      <td>This is Leonidas. He just got rekt by a snowba...</td>\n",
       "      <td>NaN</td>\n",
       "      <td>NaN</td>\n",
       "      <td>NaN</td>\n",
       "      <td>https://twitter.com/dog_rates/status/672640509...</td>\n",
       "      <td>9</td>\n",
       "      <td>10</td>\n",
       "      <td>Leonidas</td>\n",
       "      <td>None</td>\n",
       "      <td>None</td>\n",
       "      <td>None</td>\n",
       "      <td>None</td>\n",
       "    </tr>\n",
       "  </tbody>\n",
       "</table>\n",
       "</div>"
      ],
      "text/plain": [
       "                tweet_id  in_reply_to_status_id  in_reply_to_user_id  \\\n",
       "1470  694001791655137281                    NaN                  NaN   \n",
       "594   798705661114773508                    NaN                  NaN   \n",
       "413   822872901745569793                    NaN                  NaN   \n",
       "1356  703425003149250560           7.030419e+17         4.196984e+09   \n",
       "633   793845145112371200                    NaN                  NaN   \n",
       "897   759047813560868866                    NaN                  NaN   \n",
       "223   849412302885593088                    NaN                  NaN   \n",
       "2094  670778058496974848                    NaN                  NaN   \n",
       "72    878604707211726852                    NaN                  NaN   \n",
       "884   760190180481531904                    NaN                  NaN   \n",
       "1675  682242692827447297                    NaN                  NaN   \n",
       "1678  682047327939461121                    NaN                  NaN   \n",
       "975   750041628174217216                    NaN                  NaN   \n",
       "784   775096608509886464                    NaN                  NaN   \n",
       "1990  672640509974827008                    NaN                  NaN   \n",
       "\n",
       "                      timestamp  \\\n",
       "1470  2016-02-01 03:38:15 +0000   \n",
       "594   2016-11-16 01:54:03 +0000   \n",
       "413   2017-01-21 18:26:02 +0000   \n",
       "1356  2016-02-27 03:42:44 +0000   \n",
       "633   2016-11-02 16:00:06 +0000   \n",
       "897   2016-07-29 15:27:55 +0000   \n",
       "223   2017-04-05 00:04:08 +0000   \n",
       "2094  2015-11-29 01:35:26 +0000   \n",
       "72    2017-06-24 13:24:20 +0000   \n",
       "884   2016-08-01 19:07:17 +0000   \n",
       "1675  2015-12-30 16:51:48 +0000   \n",
       "1678  2015-12-30 03:55:29 +0000   \n",
       "975   2016-07-04 19:00:33 +0000   \n",
       "784   2016-09-11 22:20:06 +0000   \n",
       "1990  2015-12-04 04:56:09 +0000   \n",
       "\n",
       "                                                 source  \\\n",
       "1470  <a href=\"http://twitter.com/download/iphone\" r...   \n",
       "594   <a href=\"http://twitter.com/download/iphone\" r...   \n",
       "413   <a href=\"http://twitter.com/download/iphone\" r...   \n",
       "1356  <a href=\"http://twitter.com/download/iphone\" r...   \n",
       "633   <a href=\"http://twitter.com/download/iphone\" r...   \n",
       "897   <a href=\"http://twitter.com/download/iphone\" r...   \n",
       "223   <a href=\"http://twitter.com/download/iphone\" r...   \n",
       "2094  <a href=\"http://twitter.com/download/iphone\" r...   \n",
       "72    <a href=\"http://twitter.com/download/iphone\" r...   \n",
       "884   <a href=\"http://twitter.com/download/iphone\" r...   \n",
       "1675  <a href=\"http://twitter.com/download/iphone\" r...   \n",
       "1678  <a href=\"http://twitter.com/download/iphone\" r...   \n",
       "975   <a href=\"https://about.twitter.com/products/tw...   \n",
       "784   <a href=\"http://twitter.com/download/iphone\" r...   \n",
       "1990  <a href=\"http://twitter.com/download/iphone\" r...   \n",
       "\n",
       "                                                   text  retweeted_status_id  \\\n",
       "1470  This is Chester. He's a Benefloof Cumberbark. ...                  NaN   \n",
       "594   RT @dog_rates: Meet Baloo. He's expecting a fa...         7.406770e+17   \n",
       "413   Here's a super supportive puppo participating ...                  NaN   \n",
       "1356  Really guys? Again? I know this is a rare Alba...                  NaN   \n",
       "633   This is Clark. He was just caught wearing pant...                  NaN   \n",
       "897   This is Spencer. He's part of the Queen's Guar...                  NaN   \n",
       "223   This is Noosh. He noticed you were in the show...                  NaN   \n",
       "2094  \"To bone or not to bone?\"\\n10/10 https://t.co/...                  NaN   \n",
       "72    Martha is stunning how h*ckin dare you. 13/10 ...                  NaN   \n",
       "884   Meet Sadie. She's addicted to balloons. It's t...                  NaN   \n",
       "1675  This is Samson. He patrols his waters on the b...                  NaN   \n",
       "1678  We normally don't rate bears but this one seem...                  NaN   \n",
       "975   This is Beau. He's trying to keep his daddy fr...                  NaN   \n",
       "784   RT @dog_rates: After so many requests, this is...         7.403732e+17   \n",
       "1990  This is Leonidas. He just got rekt by a snowba...                  NaN   \n",
       "\n",
       "      retweeted_status_user_id retweeted_status_timestamp  \\\n",
       "1470                       NaN                        NaN   \n",
       "594               4.196984e+09  2016-06-08 22:48:46 +0000   \n",
       "413                        NaN                        NaN   \n",
       "1356                       NaN                        NaN   \n",
       "633                        NaN                        NaN   \n",
       "897                        NaN                        NaN   \n",
       "223                        NaN                        NaN   \n",
       "2094                       NaN                        NaN   \n",
       "72                         NaN                        NaN   \n",
       "884                        NaN                        NaN   \n",
       "1675                       NaN                        NaN   \n",
       "1678                       NaN                        NaN   \n",
       "975                        NaN                        NaN   \n",
       "784               4.196984e+09  2016-06-08 02:41:38 +0000   \n",
       "1990                       NaN                        NaN   \n",
       "\n",
       "                                          expanded_urls  rating_numerator  \\\n",
       "1470  https://twitter.com/dog_rates/status/694001791...                11   \n",
       "594   https://twitter.com/dog_rates/status/740676976...                11   \n",
       "413   https://twitter.com/dog_rates/status/822872901...                13   \n",
       "1356  https://twitter.com/dog_rates/status/703425003...                 9   \n",
       "633   https://twitter.com/dog_rates/status/793845145...                13   \n",
       "897   https://twitter.com/dog_rates/status/759047813...                11   \n",
       "223   https://twitter.com/dog_rates/status/849412302...                12   \n",
       "2094  https://twitter.com/dog_rates/status/670778058...                10   \n",
       "72    https://twitter.com/bbcworld/status/8785998685...                13   \n",
       "884   https://twitter.com/dog_rates/status/760190180...                10   \n",
       "1675  https://twitter.com/dog_rates/status/682242692...                11   \n",
       "1678  https://twitter.com/dog_rates/status/682047327...                10   \n",
       "975   https://twitter.com/dog_rates/status/750041628...                13   \n",
       "784   https://twitter.com/dog_rates/status/740373189...                 9   \n",
       "1990  https://twitter.com/dog_rates/status/672640509...                 9   \n",
       "\n",
       "      rating_denominator      name doggo floofer  pupper  puppo  \n",
       "1470                  10   Chester  None    None    None   None  \n",
       "594                   10     Baloo  None    None  pupper   None  \n",
       "413                   10      None  None    None    None  puppo  \n",
       "1356                  10      None  None    None    None   None  \n",
       "633                   10     Clark  None    None    None   None  \n",
       "897                   10   Spencer  None    None    None   None  \n",
       "223                   10     Noosh  None    None    None   None  \n",
       "2094                  10      None  None    None    None   None  \n",
       "72                    10      None  None    None    None   None  \n",
       "884                   10     Sadie  None    None    None   None  \n",
       "1675                  10    Samson  None    None    None   None  \n",
       "1678                  10      None  None    None    None   None  \n",
       "975                   10      Beau  None    None    None   None  \n",
       "784                   11      None  None    None    None   None  \n",
       "1990                  10  Leonidas  None    None    None   None  "
      ]
     },
     "execution_count": 55,
     "metadata": {},
     "output_type": "execute_result"
    }
   ],
   "source": [
    "twit_arch.sample(15)"
   ]
  },
  {
   "cell_type": "code",
   "execution_count": 56,
   "metadata": {},
   "outputs": [
    {
     "name": "stdout",
     "output_type": "stream",
     "text": [
      "<class 'pandas.core.frame.DataFrame'>\n",
      "RangeIndex: 2356 entries, 0 to 2355\n",
      "Data columns (total 17 columns):\n",
      " #   Column                      Non-Null Count  Dtype  \n",
      "---  ------                      --------------  -----  \n",
      " 0   tweet_id                    2356 non-null   int64  \n",
      " 1   in_reply_to_status_id       78 non-null     float64\n",
      " 2   in_reply_to_user_id         78 non-null     float64\n",
      " 3   timestamp                   2356 non-null   object \n",
      " 4   source                      2356 non-null   object \n",
      " 5   text                        2356 non-null   object \n",
      " 6   retweeted_status_id         181 non-null    float64\n",
      " 7   retweeted_status_user_id    181 non-null    float64\n",
      " 8   retweeted_status_timestamp  181 non-null    object \n",
      " 9   expanded_urls               2297 non-null   object \n",
      " 10  rating_numerator            2356 non-null   int64  \n",
      " 11  rating_denominator          2356 non-null   int64  \n",
      " 12  name                        2356 non-null   object \n",
      " 13  doggo                       2356 non-null   object \n",
      " 14  floofer                     2356 non-null   object \n",
      " 15  pupper                      2356 non-null   object \n",
      " 16  puppo                       2356 non-null   object \n",
      "dtypes: float64(4), int64(3), object(10)\n",
      "memory usage: 313.0+ KB\n"
     ]
    }
   ],
   "source": [
    "twit_arch.info()"
   ]
  },
  {
   "cell_type": "code",
   "execution_count": 57,
   "metadata": {},
   "outputs": [
    {
     "data": {
      "text/plain": [
       "None     2259\n",
       "doggo      97\n",
       "Name: doggo, dtype: int64"
      ]
     },
     "execution_count": 57,
     "metadata": {},
     "output_type": "execute_result"
    }
   ],
   "source": [
    "twit_arch.doggo.value_counts()"
   ]
  },
  {
   "cell_type": "code",
   "execution_count": 58,
   "metadata": {},
   "outputs": [
    {
     "data": {
      "text/html": [
       "<div>\n",
       "<style scoped>\n",
       "    .dataframe tbody tr th:only-of-type {\n",
       "        vertical-align: middle;\n",
       "    }\n",
       "\n",
       "    .dataframe tbody tr th {\n",
       "        vertical-align: top;\n",
       "    }\n",
       "\n",
       "    .dataframe thead th {\n",
       "        text-align: right;\n",
       "    }\n",
       "</style>\n",
       "<table border=\"1\" class=\"dataframe\">\n",
       "  <thead>\n",
       "    <tr style=\"text-align: right;\">\n",
       "      <th></th>\n",
       "      <th>tweet_id</th>\n",
       "      <th>jpg_url</th>\n",
       "      <th>img_num</th>\n",
       "      <th>p1</th>\n",
       "      <th>p1_conf</th>\n",
       "      <th>p1_dog</th>\n",
       "      <th>p2</th>\n",
       "      <th>p2_conf</th>\n",
       "      <th>p2_dog</th>\n",
       "      <th>p3</th>\n",
       "      <th>p3_conf</th>\n",
       "      <th>p3_dog</th>\n",
       "    </tr>\n",
       "  </thead>\n",
       "  <tbody>\n",
       "    <tr>\n",
       "      <th>2034</th>\n",
       "      <td>883838122936631299</td>\n",
       "      <td>https://pbs.twimg.com/media/DEQGFgAXUAAEvfi.jpg</td>\n",
       "      <td>1</td>\n",
       "      <td>Doberman</td>\n",
       "      <td>0.610946</td>\n",
       "      <td>True</td>\n",
       "      <td>miniature_pinscher</td>\n",
       "      <td>0.299603</td>\n",
       "      <td>True</td>\n",
       "      <td>kelpie</td>\n",
       "      <td>0.063020</td>\n",
       "      <td>True</td>\n",
       "    </tr>\n",
       "    <tr>\n",
       "      <th>1356</th>\n",
       "      <td>760539183865880579</td>\n",
       "      <td>https://pbs.twimg.com/media/Co36VZfWcAEN3R3.jpg</td>\n",
       "      <td>1</td>\n",
       "      <td>Samoyed</td>\n",
       "      <td>0.988013</td>\n",
       "      <td>True</td>\n",
       "      <td>malamute</td>\n",
       "      <td>0.004518</td>\n",
       "      <td>True</td>\n",
       "      <td>West_Highland_white_terrier</td>\n",
       "      <td>0.001189</td>\n",
       "      <td>True</td>\n",
       "    </tr>\n",
       "    <tr>\n",
       "      <th>2037</th>\n",
       "      <td>884562892145688576</td>\n",
       "      <td>https://pbs.twimg.com/media/DEaZQkfXUAEC7qB.jpg</td>\n",
       "      <td>1</td>\n",
       "      <td>pug</td>\n",
       "      <td>0.546406</td>\n",
       "      <td>True</td>\n",
       "      <td>French_bulldog</td>\n",
       "      <td>0.404291</td>\n",
       "      <td>True</td>\n",
       "      <td>Brabancon_griffon</td>\n",
       "      <td>0.044002</td>\n",
       "      <td>True</td>\n",
       "    </tr>\n",
       "    <tr>\n",
       "      <th>397</th>\n",
       "      <td>673662677122719744</td>\n",
       "      <td>https://pbs.twimg.com/media/CVlUfBbUwAQyfcD.jpg</td>\n",
       "      <td>1</td>\n",
       "      <td>Labrador_retriever</td>\n",
       "      <td>0.957670</td>\n",
       "      <td>True</td>\n",
       "      <td>beagle</td>\n",
       "      <td>0.012413</td>\n",
       "      <td>True</td>\n",
       "      <td>golden_retriever</td>\n",
       "      <td>0.005689</td>\n",
       "      <td>True</td>\n",
       "    </tr>\n",
       "    <tr>\n",
       "      <th>1378</th>\n",
       "      <td>764259802650378240</td>\n",
       "      <td>https://pbs.twimg.com/media/CpsyNtXWgAAqvs3.jpg</td>\n",
       "      <td>1</td>\n",
       "      <td>German_shepherd</td>\n",
       "      <td>0.973677</td>\n",
       "      <td>True</td>\n",
       "      <td>malinois</td>\n",
       "      <td>0.025950</td>\n",
       "      <td>True</td>\n",
       "      <td>kelpie</td>\n",
       "      <td>0.000192</td>\n",
       "      <td>True</td>\n",
       "    </tr>\n",
       "    <tr>\n",
       "      <th>1527</th>\n",
       "      <td>788908386943430656</td>\n",
       "      <td>https://pbs.twimg.com/media/CvLD-mbWYAAFI8w.jpg</td>\n",
       "      <td>1</td>\n",
       "      <td>remote_control</td>\n",
       "      <td>0.881538</td>\n",
       "      <td>False</td>\n",
       "      <td>oscilloscope</td>\n",
       "      <td>0.035513</td>\n",
       "      <td>False</td>\n",
       "      <td>golden_retriever</td>\n",
       "      <td>0.034090</td>\n",
       "      <td>True</td>\n",
       "    </tr>\n",
       "    <tr>\n",
       "      <th>1825</th>\n",
       "      <td>835172783151792128</td>\n",
       "      <td>https://pbs.twimg.com/media/C5chM_jWAAQmov9.jpg</td>\n",
       "      <td>2</td>\n",
       "      <td>Border_collie</td>\n",
       "      <td>0.663138</td>\n",
       "      <td>True</td>\n",
       "      <td>collie</td>\n",
       "      <td>0.152494</td>\n",
       "      <td>True</td>\n",
       "      <td>Cardigan</td>\n",
       "      <td>0.035471</td>\n",
       "      <td>True</td>\n",
       "    </tr>\n",
       "    <tr>\n",
       "      <th>1113</th>\n",
       "      <td>724405726123311104</td>\n",
       "      <td>https://pbs.twimg.com/media/Cg2bKLAWwAA0WEm.jpg</td>\n",
       "      <td>1</td>\n",
       "      <td>golden_retriever</td>\n",
       "      <td>0.240695</td>\n",
       "      <td>True</td>\n",
       "      <td>cocker_spaniel</td>\n",
       "      <td>0.202444</td>\n",
       "      <td>True</td>\n",
       "      <td>feather_boa</td>\n",
       "      <td>0.159348</td>\n",
       "      <td>False</td>\n",
       "    </tr>\n",
       "    <tr>\n",
       "      <th>2003</th>\n",
       "      <td>877201837425926144</td>\n",
       "      <td>https://pbs.twimg.com/media/DCxyahJWsAAddSC.jpg</td>\n",
       "      <td>1</td>\n",
       "      <td>Pembroke</td>\n",
       "      <td>0.931120</td>\n",
       "      <td>True</td>\n",
       "      <td>Cardigan</td>\n",
       "      <td>0.068698</td>\n",
       "      <td>True</td>\n",
       "      <td>basenji</td>\n",
       "      <td>0.000082</td>\n",
       "      <td>True</td>\n",
       "    </tr>\n",
       "    <tr>\n",
       "      <th>817</th>\n",
       "      <td>692894228850999298</td>\n",
       "      <td>https://pbs.twimg.com/media/CZ2nn7BUsAI2Pj3.jpg</td>\n",
       "      <td>1</td>\n",
       "      <td>German_short-haired_pointer</td>\n",
       "      <td>0.876977</td>\n",
       "      <td>True</td>\n",
       "      <td>bluetick</td>\n",
       "      <td>0.036615</td>\n",
       "      <td>True</td>\n",
       "      <td>basset</td>\n",
       "      <td>0.017848</td>\n",
       "      <td>True</td>\n",
       "    </tr>\n",
       "    <tr>\n",
       "      <th>335</th>\n",
       "      <td>672205392827572224</td>\n",
       "      <td>https://pbs.twimg.com/media/CVQnPMrVAAAzShR.jpg</td>\n",
       "      <td>1</td>\n",
       "      <td>carton</td>\n",
       "      <td>0.952613</td>\n",
       "      <td>False</td>\n",
       "      <td>crate</td>\n",
       "      <td>0.035376</td>\n",
       "      <td>False</td>\n",
       "      <td>pug</td>\n",
       "      <td>0.003267</td>\n",
       "      <td>True</td>\n",
       "    </tr>\n",
       "    <tr>\n",
       "      <th>554</th>\n",
       "      <td>677644091929329666</td>\n",
       "      <td>https://pbs.twimg.com/ext_tw_video_thumb/67764...</td>\n",
       "      <td>1</td>\n",
       "      <td>Chihuahua</td>\n",
       "      <td>0.626236</td>\n",
       "      <td>True</td>\n",
       "      <td>Italian_greyhound</td>\n",
       "      <td>0.128483</td>\n",
       "      <td>True</td>\n",
       "      <td>swing</td>\n",
       "      <td>0.059840</td>\n",
       "      <td>False</td>\n",
       "    </tr>\n",
       "    <tr>\n",
       "      <th>18</th>\n",
       "      <td>666268910803644416</td>\n",
       "      <td>https://pbs.twimg.com/media/CT8QCd1WEAADXws.jpg</td>\n",
       "      <td>1</td>\n",
       "      <td>desktop_computer</td>\n",
       "      <td>0.086502</td>\n",
       "      <td>False</td>\n",
       "      <td>desk</td>\n",
       "      <td>0.085547</td>\n",
       "      <td>False</td>\n",
       "      <td>bookcase</td>\n",
       "      <td>0.079480</td>\n",
       "      <td>False</td>\n",
       "    </tr>\n",
       "    <tr>\n",
       "      <th>506</th>\n",
       "      <td>675898130735476737</td>\n",
       "      <td>https://pbs.twimg.com/media/CWFFt3_XIAArIYK.jpg</td>\n",
       "      <td>1</td>\n",
       "      <td>Labrador_retriever</td>\n",
       "      <td>0.407430</td>\n",
       "      <td>True</td>\n",
       "      <td>malinois</td>\n",
       "      <td>0.077037</td>\n",
       "      <td>True</td>\n",
       "      <td>pug</td>\n",
       "      <td>0.074597</td>\n",
       "      <td>True</td>\n",
       "    </tr>\n",
       "    <tr>\n",
       "      <th>1204</th>\n",
       "      <td>741743634094141440</td>\n",
       "      <td>https://pbs.twimg.com/media/Cksz42EW0AAh2NF.jpg</td>\n",
       "      <td>1</td>\n",
       "      <td>Labrador_retriever</td>\n",
       "      <td>0.786089</td>\n",
       "      <td>True</td>\n",
       "      <td>flat-coated_retriever</td>\n",
       "      <td>0.048652</td>\n",
       "      <td>True</td>\n",
       "      <td>Chesapeake_Bay_retriever</td>\n",
       "      <td>0.034693</td>\n",
       "      <td>True</td>\n",
       "    </tr>\n",
       "  </tbody>\n",
       "</table>\n",
       "</div>"
      ],
      "text/plain": [
       "                tweet_id                                            jpg_url  \\\n",
       "2034  883838122936631299    https://pbs.twimg.com/media/DEQGFgAXUAAEvfi.jpg   \n",
       "1356  760539183865880579    https://pbs.twimg.com/media/Co36VZfWcAEN3R3.jpg   \n",
       "2037  884562892145688576    https://pbs.twimg.com/media/DEaZQkfXUAEC7qB.jpg   \n",
       "397   673662677122719744    https://pbs.twimg.com/media/CVlUfBbUwAQyfcD.jpg   \n",
       "1378  764259802650378240    https://pbs.twimg.com/media/CpsyNtXWgAAqvs3.jpg   \n",
       "1527  788908386943430656    https://pbs.twimg.com/media/CvLD-mbWYAAFI8w.jpg   \n",
       "1825  835172783151792128    https://pbs.twimg.com/media/C5chM_jWAAQmov9.jpg   \n",
       "1113  724405726123311104    https://pbs.twimg.com/media/Cg2bKLAWwAA0WEm.jpg   \n",
       "2003  877201837425926144    https://pbs.twimg.com/media/DCxyahJWsAAddSC.jpg   \n",
       "817   692894228850999298    https://pbs.twimg.com/media/CZ2nn7BUsAI2Pj3.jpg   \n",
       "335   672205392827572224    https://pbs.twimg.com/media/CVQnPMrVAAAzShR.jpg   \n",
       "554   677644091929329666  https://pbs.twimg.com/ext_tw_video_thumb/67764...   \n",
       "18    666268910803644416    https://pbs.twimg.com/media/CT8QCd1WEAADXws.jpg   \n",
       "506   675898130735476737    https://pbs.twimg.com/media/CWFFt3_XIAArIYK.jpg   \n",
       "1204  741743634094141440    https://pbs.twimg.com/media/Cksz42EW0AAh2NF.jpg   \n",
       "\n",
       "      img_num                           p1   p1_conf  p1_dog  \\\n",
       "2034        1                     Doberman  0.610946    True   \n",
       "1356        1                      Samoyed  0.988013    True   \n",
       "2037        1                          pug  0.546406    True   \n",
       "397         1           Labrador_retriever  0.957670    True   \n",
       "1378        1              German_shepherd  0.973677    True   \n",
       "1527        1               remote_control  0.881538   False   \n",
       "1825        2                Border_collie  0.663138    True   \n",
       "1113        1             golden_retriever  0.240695    True   \n",
       "2003        1                     Pembroke  0.931120    True   \n",
       "817         1  German_short-haired_pointer  0.876977    True   \n",
       "335         1                       carton  0.952613   False   \n",
       "554         1                    Chihuahua  0.626236    True   \n",
       "18          1             desktop_computer  0.086502   False   \n",
       "506         1           Labrador_retriever  0.407430    True   \n",
       "1204        1           Labrador_retriever  0.786089    True   \n",
       "\n",
       "                         p2   p2_conf  p2_dog                           p3  \\\n",
       "2034     miniature_pinscher  0.299603    True                       kelpie   \n",
       "1356               malamute  0.004518    True  West_Highland_white_terrier   \n",
       "2037         French_bulldog  0.404291    True            Brabancon_griffon   \n",
       "397                  beagle  0.012413    True             golden_retriever   \n",
       "1378               malinois  0.025950    True                       kelpie   \n",
       "1527           oscilloscope  0.035513   False             golden_retriever   \n",
       "1825                 collie  0.152494    True                     Cardigan   \n",
       "1113         cocker_spaniel  0.202444    True                  feather_boa   \n",
       "2003               Cardigan  0.068698    True                      basenji   \n",
       "817                bluetick  0.036615    True                       basset   \n",
       "335                   crate  0.035376   False                          pug   \n",
       "554       Italian_greyhound  0.128483    True                        swing   \n",
       "18                     desk  0.085547   False                     bookcase   \n",
       "506                malinois  0.077037    True                          pug   \n",
       "1204  flat-coated_retriever  0.048652    True     Chesapeake_Bay_retriever   \n",
       "\n",
       "       p3_conf  p3_dog  \n",
       "2034  0.063020    True  \n",
       "1356  0.001189    True  \n",
       "2037  0.044002    True  \n",
       "397   0.005689    True  \n",
       "1378  0.000192    True  \n",
       "1527  0.034090    True  \n",
       "1825  0.035471    True  \n",
       "1113  0.159348   False  \n",
       "2003  0.000082    True  \n",
       "817   0.017848    True  \n",
       "335   0.003267    True  \n",
       "554   0.059840   False  \n",
       "18    0.079480   False  \n",
       "506   0.074597    True  \n",
       "1204  0.034693    True  "
      ]
     },
     "execution_count": 58,
     "metadata": {},
     "output_type": "execute_result"
    }
   ],
   "source": [
    "image_pred.sample(15)"
   ]
  },
  {
   "cell_type": "code",
   "execution_count": 59,
   "metadata": {},
   "outputs": [
    {
     "name": "stdout",
     "output_type": "stream",
     "text": [
      "<class 'pandas.core.frame.DataFrame'>\n",
      "RangeIndex: 2075 entries, 0 to 2074\n",
      "Data columns (total 12 columns):\n",
      " #   Column    Non-Null Count  Dtype  \n",
      "---  ------    --------------  -----  \n",
      " 0   tweet_id  2075 non-null   int64  \n",
      " 1   jpg_url   2075 non-null   object \n",
      " 2   img_num   2075 non-null   int64  \n",
      " 3   p1        2075 non-null   object \n",
      " 4   p1_conf   2075 non-null   float64\n",
      " 5   p1_dog    2075 non-null   bool   \n",
      " 6   p2        2075 non-null   object \n",
      " 7   p2_conf   2075 non-null   float64\n",
      " 8   p2_dog    2075 non-null   bool   \n",
      " 9   p3        2075 non-null   object \n",
      " 10  p3_conf   2075 non-null   float64\n",
      " 11  p3_dog    2075 non-null   bool   \n",
      "dtypes: bool(3), float64(3), int64(2), object(4)\n",
      "memory usage: 152.1+ KB\n"
     ]
    }
   ],
   "source": [
    "image_pred.info()"
   ]
  },
  {
   "cell_type": "code",
   "execution_count": 60,
   "metadata": {},
   "outputs": [
    {
     "data": {
      "text/plain": [
       "True     1532\n",
       "False     543\n",
       "Name: p1_dog, dtype: int64"
      ]
     },
     "execution_count": 60,
     "metadata": {},
     "output_type": "execute_result"
    }
   ],
   "source": [
    "image_pred.p1_dog.value_counts()"
   ]
  },
  {
   "cell_type": "code",
   "execution_count": 61,
   "metadata": {},
   "outputs": [
    {
     "data": {
      "text/html": [
       "<div>\n",
       "<style scoped>\n",
       "    .dataframe tbody tr th:only-of-type {\n",
       "        vertical-align: middle;\n",
       "    }\n",
       "\n",
       "    .dataframe tbody tr th {\n",
       "        vertical-align: top;\n",
       "    }\n",
       "\n",
       "    .dataframe thead th {\n",
       "        text-align: right;\n",
       "    }\n",
       "</style>\n",
       "<table border=\"1\" class=\"dataframe\">\n",
       "  <thead>\n",
       "    <tr style=\"text-align: right;\">\n",
       "      <th></th>\n",
       "      <th>tweet_id</th>\n",
       "      <th>img_num</th>\n",
       "      <th>p1_conf</th>\n",
       "      <th>p2_conf</th>\n",
       "      <th>p3_conf</th>\n",
       "    </tr>\n",
       "  </thead>\n",
       "  <tbody>\n",
       "    <tr>\n",
       "      <th>count</th>\n",
       "      <td>2.075000e+03</td>\n",
       "      <td>2075.000000</td>\n",
       "      <td>2075.000000</td>\n",
       "      <td>2.075000e+03</td>\n",
       "      <td>2.075000e+03</td>\n",
       "    </tr>\n",
       "    <tr>\n",
       "      <th>mean</th>\n",
       "      <td>7.384514e+17</td>\n",
       "      <td>1.203855</td>\n",
       "      <td>0.594548</td>\n",
       "      <td>1.345886e-01</td>\n",
       "      <td>6.032417e-02</td>\n",
       "    </tr>\n",
       "    <tr>\n",
       "      <th>std</th>\n",
       "      <td>6.785203e+16</td>\n",
       "      <td>0.561875</td>\n",
       "      <td>0.271174</td>\n",
       "      <td>1.006657e-01</td>\n",
       "      <td>5.090593e-02</td>\n",
       "    </tr>\n",
       "    <tr>\n",
       "      <th>min</th>\n",
       "      <td>6.660209e+17</td>\n",
       "      <td>1.000000</td>\n",
       "      <td>0.044333</td>\n",
       "      <td>1.011300e-08</td>\n",
       "      <td>1.740170e-10</td>\n",
       "    </tr>\n",
       "    <tr>\n",
       "      <th>25%</th>\n",
       "      <td>6.764835e+17</td>\n",
       "      <td>1.000000</td>\n",
       "      <td>0.364412</td>\n",
       "      <td>5.388625e-02</td>\n",
       "      <td>1.622240e-02</td>\n",
       "    </tr>\n",
       "    <tr>\n",
       "      <th>50%</th>\n",
       "      <td>7.119988e+17</td>\n",
       "      <td>1.000000</td>\n",
       "      <td>0.588230</td>\n",
       "      <td>1.181810e-01</td>\n",
       "      <td>4.944380e-02</td>\n",
       "    </tr>\n",
       "    <tr>\n",
       "      <th>75%</th>\n",
       "      <td>7.932034e+17</td>\n",
       "      <td>1.000000</td>\n",
       "      <td>0.843855</td>\n",
       "      <td>1.955655e-01</td>\n",
       "      <td>9.180755e-02</td>\n",
       "    </tr>\n",
       "    <tr>\n",
       "      <th>max</th>\n",
       "      <td>8.924206e+17</td>\n",
       "      <td>4.000000</td>\n",
       "      <td>1.000000</td>\n",
       "      <td>4.880140e-01</td>\n",
       "      <td>2.734190e-01</td>\n",
       "    </tr>\n",
       "  </tbody>\n",
       "</table>\n",
       "</div>"
      ],
      "text/plain": [
       "           tweet_id      img_num      p1_conf       p2_conf       p3_conf\n",
       "count  2.075000e+03  2075.000000  2075.000000  2.075000e+03  2.075000e+03\n",
       "mean   7.384514e+17     1.203855     0.594548  1.345886e-01  6.032417e-02\n",
       "std    6.785203e+16     0.561875     0.271174  1.006657e-01  5.090593e-02\n",
       "min    6.660209e+17     1.000000     0.044333  1.011300e-08  1.740170e-10\n",
       "25%    6.764835e+17     1.000000     0.364412  5.388625e-02  1.622240e-02\n",
       "50%    7.119988e+17     1.000000     0.588230  1.181810e-01  4.944380e-02\n",
       "75%    7.932034e+17     1.000000     0.843855  1.955655e-01  9.180755e-02\n",
       "max    8.924206e+17     4.000000     1.000000  4.880140e-01  2.734190e-01"
      ]
     },
     "execution_count": 61,
     "metadata": {},
     "output_type": "execute_result"
    }
   ],
   "source": [
    "image_pred.describe()"
   ]
  },
  {
   "cell_type": "code",
   "execution_count": 62,
   "metadata": {},
   "outputs": [
    {
     "name": "stdout",
     "output_type": "stream",
     "text": [
      "<class 'pandas.core.frame.DataFrame'>\n",
      "RangeIndex: 2350 entries, 0 to 2349\n",
      "Data columns (total 3 columns):\n",
      " #   Column          Non-Null Count  Dtype\n",
      "---  ------          --------------  -----\n",
      " 0   tweet_id        2350 non-null   int64\n",
      " 1   retweet_count   2350 non-null   int64\n",
      " 2   favorite_count  2350 non-null   int64\n",
      "dtypes: int64(3)\n",
      "memory usage: 55.2 KB\n"
     ]
    }
   ],
   "source": [
    "twet_df.info()"
   ]
  },
  {
   "cell_type": "markdown",
   "metadata": {},
   "source": [
    "#### Quality\n",
    "##### `twit_arch` table\n",
    "- 1 - The timestamp field is in string format (object)\n",
    "- 2 - Some of the rows have invalid strings in the name column, e.g. \"a\", \"an\", \"in\". \n",
    "- 3 - Nan value in the name column.\n",
    "- 4 - There are some tweets beyond August 1st, 2017.\n",
    "- 5 - Erroneous data types in the source column are not consistent..html code\n",
    "- 6 - Dataset contains retweets.\n",
    "- 7 - Extra characters after '&'.\n",
    "\n",
    "\n",
    "##### `image_pred` table\n",
    "- 8 - image prediction shows that has three level of confidence and some image is not images of dogs. \n"
   ]
  },
  {
   "cell_type": "markdown",
   "metadata": {},
   "source": [
    "#### Tidiness\n",
    "- 1 - `image_pred` should be part of the `twit_arch` table.\n",
    "- 2 - `twet_df` should be part of the `twit_arch` table as well.\n",
    "- 3 - doggo, floofer, pupper, puppo columns in `twit_arch` should be combined into a single column as this is one variable that identify stage of dog.\n"
   ]
  },
  {
   "cell_type": "markdown",
   "metadata": {},
   "source": [
    "<a id='Cleaning'></a>\n",
    "#### Part III - Cleaning data"
   ]
  },
  {
   "cell_type": "code",
   "execution_count": 63,
   "metadata": {},
   "outputs": [],
   "source": [
    "#Make a copy of twit_arch\n",
    "clean_df= twit_arch.copy()"
   ]
  },
  {
   "cell_type": "code",
   "execution_count": 64,
   "metadata": {},
   "outputs": [],
   "source": [
    "#Make a copy of image_pred\n",
    "image_pred_copy = image_pred.copy()"
   ]
  },
  {
   "cell_type": "code",
   "execution_count": 65,
   "metadata": {},
   "outputs": [],
   "source": [
    "#Make a copy of twet_df\n",
    "twet_df_copy = twet_df.copy()"
   ]
  },
  {
   "cell_type": "markdown",
   "metadata": {},
   "source": [
    "#### Tidiness #1:\n",
    "`image_pred` should be part of the `twit_arch` table"
   ]
  },
  {
   "cell_type": "markdown",
   "metadata": {},
   "source": [
    "##### Define\n",
    "Merge `image_pred` with `twit_arch` table on 'tweet_id'"
   ]
  },
  {
   "cell_type": "markdown",
   "metadata": {},
   "source": [
    "##### Code"
   ]
  },
  {
   "cell_type": "code",
   "execution_count": 66,
   "metadata": {},
   "outputs": [],
   "source": [
    "clean_df = pd.merge(clean_df, image_pred_copy, on=['tweet_id'], how='left')"
   ]
  },
  {
   "cell_type": "markdown",
   "metadata": {},
   "source": [
    "##### Test"
   ]
  },
  {
   "cell_type": "code",
   "execution_count": 67,
   "metadata": {},
   "outputs": [
    {
     "data": {
      "text/plain": [
       "['tweet_id',\n",
       " 'in_reply_to_status_id',\n",
       " 'in_reply_to_user_id',\n",
       " 'timestamp',\n",
       " 'source',\n",
       " 'text',\n",
       " 'retweeted_status_id',\n",
       " 'retweeted_status_user_id',\n",
       " 'retweeted_status_timestamp',\n",
       " 'expanded_urls',\n",
       " 'rating_numerator',\n",
       " 'rating_denominator',\n",
       " 'name',\n",
       " 'doggo',\n",
       " 'floofer',\n",
       " 'pupper',\n",
       " 'puppo',\n",
       " 'jpg_url',\n",
       " 'img_num',\n",
       " 'p1',\n",
       " 'p1_conf',\n",
       " 'p1_dog',\n",
       " 'p2',\n",
       " 'p2_conf',\n",
       " 'p2_dog',\n",
       " 'p3',\n",
       " 'p3_conf',\n",
       " 'p3_dog']"
      ]
     },
     "execution_count": 67,
     "metadata": {},
     "output_type": "execute_result"
    }
   ],
   "source": [
    "list(clean_df.columns)"
   ]
  },
  {
   "cell_type": "markdown",
   "metadata": {},
   "source": [
    "#### Tidiness #2:\n",
    "`twet_df` should be part of the `twit_arch` table as well"
   ]
  },
  {
   "cell_type": "markdown",
   "metadata": {},
   "source": [
    "##### Define\n",
    "Merge `twet_df` with `twit_arch` table on 'tweet_id'"
   ]
  },
  {
   "cell_type": "markdown",
   "metadata": {},
   "source": [
    "##### Code"
   ]
  },
  {
   "cell_type": "code",
   "execution_count": 68,
   "metadata": {},
   "outputs": [],
   "source": [
    "clean_df = pd.merge(clean_df, twet_df_copy,\n",
    "                    on=['tweet_id'], how='left')"
   ]
  },
  {
   "cell_type": "markdown",
   "metadata": {},
   "source": [
    "##### Test"
   ]
  },
  {
   "cell_type": "code",
   "execution_count": 69,
   "metadata": {},
   "outputs": [
    {
     "name": "stdout",
     "output_type": "stream",
     "text": [
      "<class 'pandas.core.frame.DataFrame'>\n",
      "Int64Index: 2356 entries, 0 to 2355\n",
      "Data columns (total 30 columns):\n",
      " #   Column                      Non-Null Count  Dtype  \n",
      "---  ------                      --------------  -----  \n",
      " 0   tweet_id                    2356 non-null   int64  \n",
      " 1   in_reply_to_status_id       78 non-null     float64\n",
      " 2   in_reply_to_user_id         78 non-null     float64\n",
      " 3   timestamp                   2356 non-null   object \n",
      " 4   source                      2356 non-null   object \n",
      " 5   text                        2356 non-null   object \n",
      " 6   retweeted_status_id         181 non-null    float64\n",
      " 7   retweeted_status_user_id    181 non-null    float64\n",
      " 8   retweeted_status_timestamp  181 non-null    object \n",
      " 9   expanded_urls               2297 non-null   object \n",
      " 10  rating_numerator            2356 non-null   int64  \n",
      " 11  rating_denominator          2356 non-null   int64  \n",
      " 12  name                        2356 non-null   object \n",
      " 13  doggo                       2356 non-null   object \n",
      " 14  floofer                     2356 non-null   object \n",
      " 15  pupper                      2356 non-null   object \n",
      " 16  puppo                       2356 non-null   object \n",
      " 17  jpg_url                     2075 non-null   object \n",
      " 18  img_num                     2075 non-null   float64\n",
      " 19  p1                          2075 non-null   object \n",
      " 20  p1_conf                     2075 non-null   float64\n",
      " 21  p1_dog                      2075 non-null   object \n",
      " 22  p2                          2075 non-null   object \n",
      " 23  p2_conf                     2075 non-null   float64\n",
      " 24  p2_dog                      2075 non-null   object \n",
      " 25  p3                          2075 non-null   object \n",
      " 26  p3_conf                     2075 non-null   float64\n",
      " 27  p3_dog                      2075 non-null   object \n",
      " 28  retweet_count               2350 non-null   float64\n",
      " 29  favorite_count              2350 non-null   float64\n",
      "dtypes: float64(10), int64(3), object(17)\n",
      "memory usage: 570.6+ KB\n"
     ]
    }
   ],
   "source": [
    "clean_df.info()"
   ]
  },
  {
   "cell_type": "markdown",
   "metadata": {},
   "source": [
    "#### Quality # 2:\n",
    "Some of the rows have invalid strings in the name column, e.g. \"a\", \"an\", \"in\". "
   ]
  },
  {
   "cell_type": "markdown",
   "metadata": {},
   "source": [
    "##### Define \n",
    "Replace all no valid words in the name column with the string \"none\""
   ]
  },
  {
   "cell_type": "markdown",
   "metadata": {},
   "source": [
    "##### Code"
   ]
  },
  {
   "cell_type": "code",
   "execution_count": 70,
   "metadata": {},
   "outputs": [
    {
     "data": {
      "text/plain": [
       "a               55\n",
       "actually         2\n",
       "all              1\n",
       "an               7\n",
       "by               1\n",
       "getting          2\n",
       "his              1\n",
       "incredibly       1\n",
       "infuriating      1\n",
       "just             4\n",
       "life             1\n",
       "light            1\n",
       "mad              2\n",
       "my               1\n",
       "not              2\n",
       "officially       1\n",
       "old              1\n",
       "one              4\n",
       "quite            4\n",
       "space            1\n",
       "such             1\n",
       "the              8\n",
       "this             1\n",
       "unacceptable     1\n",
       "very             5\n",
       "Name: name, dtype: int64"
      ]
     },
     "execution_count": 70,
     "metadata": {},
     "output_type": "execute_result"
    }
   ],
   "source": [
    "#Create a mask\n",
    "names_mask = clean_df.name.str.contains('^[a-z]', regex = True)\n",
    "clean_df[names_mask].name.value_counts().sort_index()"
   ]
  },
  {
   "cell_type": "code",
   "execution_count": 71,
   "metadata": {},
   "outputs": [],
   "source": [
    "# rename no valid words with None name\n",
    "clean_df.loc[names_mask, 'name'] = \"None\""
   ]
  },
  {
   "cell_type": "markdown",
   "metadata": {},
   "source": [
    "##### Test"
   ]
  },
  {
   "cell_type": "code",
   "execution_count": 72,
   "metadata": {},
   "outputs": [
    {
     "data": {
      "text/plain": [
       "None    109\n",
       "Name: name, dtype: int64"
      ]
     },
     "execution_count": 72,
     "metadata": {},
     "output_type": "execute_result"
    }
   ],
   "source": [
    "clean_df[names_mask].name.value_counts().sort_index()"
   ]
  },
  {
   "cell_type": "markdown",
   "metadata": {},
   "source": [
    "#### Quality #5:\n",
    "Erroneous data types in the source column are not consistent..html code"
   ]
  },
  {
   "cell_type": "markdown",
   "metadata": {},
   "source": [
    "##### Define\n",
    "Extract the string in the script"
   ]
  },
  {
   "cell_type": "markdown",
   "metadata": {},
   "source": [
    "##### Code"
   ]
  },
  {
   "cell_type": "code",
   "execution_count": 73,
   "metadata": {},
   "outputs": [],
   "source": [
    "clean_df['source'] = clean_df['source'].str.extract('^<a.+>(.+)</a>$')"
   ]
  },
  {
   "cell_type": "markdown",
   "metadata": {},
   "source": [
    "##### Test"
   ]
  },
  {
   "cell_type": "code",
   "execution_count": 74,
   "metadata": {},
   "outputs": [
    {
     "data": {
      "text/plain": [
       "Twitter for iPhone     2221\n",
       "Vine - Make a Scene      91\n",
       "Twitter Web Client       33\n",
       "TweetDeck                11\n",
       "Name: source, dtype: int64"
      ]
     },
     "execution_count": 74,
     "metadata": {},
     "output_type": "execute_result"
    }
   ],
   "source": [
    "clean_df.source.value_counts()"
   ]
  },
  {
   "cell_type": "markdown",
   "metadata": {},
   "source": [
    "#### Quality #1:\n",
    "The timestamp field is in string format (object)"
   ]
  },
  {
   "cell_type": "markdown",
   "metadata": {},
   "source": [
    "##### Define\n",
    "Convert timestamp to datetime data type."
   ]
  },
  {
   "cell_type": "markdown",
   "metadata": {},
   "source": [
    "##### Code"
   ]
  },
  {
   "cell_type": "code",
   "execution_count": 75,
   "metadata": {},
   "outputs": [],
   "source": [
    "clean_df['timestamp'] = pd.to_datetime(clean_df.timestamp)"
   ]
  },
  {
   "cell_type": "markdown",
   "metadata": {},
   "source": [
    "##### Test"
   ]
  },
  {
   "cell_type": "code",
   "execution_count": 76,
   "metadata": {},
   "outputs": [
    {
     "name": "stdout",
     "output_type": "stream",
     "text": [
      "<class 'pandas.core.frame.DataFrame'>\n",
      "Int64Index: 2356 entries, 0 to 2355\n",
      "Data columns (total 30 columns):\n",
      " #   Column                      Non-Null Count  Dtype              \n",
      "---  ------                      --------------  -----              \n",
      " 0   tweet_id                    2356 non-null   int64              \n",
      " 1   in_reply_to_status_id       78 non-null     float64            \n",
      " 2   in_reply_to_user_id         78 non-null     float64            \n",
      " 3   timestamp                   2356 non-null   datetime64[ns, UTC]\n",
      " 4   source                      2356 non-null   object             \n",
      " 5   text                        2356 non-null   object             \n",
      " 6   retweeted_status_id         181 non-null    float64            \n",
      " 7   retweeted_status_user_id    181 non-null    float64            \n",
      " 8   retweeted_status_timestamp  181 non-null    object             \n",
      " 9   expanded_urls               2297 non-null   object             \n",
      " 10  rating_numerator            2356 non-null   int64              \n",
      " 11  rating_denominator          2356 non-null   int64              \n",
      " 12  name                        2356 non-null   object             \n",
      " 13  doggo                       2356 non-null   object             \n",
      " 14  floofer                     2356 non-null   object             \n",
      " 15  pupper                      2356 non-null   object             \n",
      " 16  puppo                       2356 non-null   object             \n",
      " 17  jpg_url                     2075 non-null   object             \n",
      " 18  img_num                     2075 non-null   float64            \n",
      " 19  p1                          2075 non-null   object             \n",
      " 20  p1_conf                     2075 non-null   float64            \n",
      " 21  p1_dog                      2075 non-null   object             \n",
      " 22  p2                          2075 non-null   object             \n",
      " 23  p2_conf                     2075 non-null   float64            \n",
      " 24  p2_dog                      2075 non-null   object             \n",
      " 25  p3                          2075 non-null   object             \n",
      " 26  p3_conf                     2075 non-null   float64            \n",
      " 27  p3_dog                      2075 non-null   object             \n",
      " 28  retweet_count               2350 non-null   float64            \n",
      " 29  favorite_count              2350 non-null   float64            \n",
      "dtypes: datetime64[ns, UTC](1), float64(10), int64(3), object(16)\n",
      "memory usage: 570.6+ KB\n"
     ]
    }
   ],
   "source": [
    "clean_df.info()"
   ]
  },
  {
   "cell_type": "markdown",
   "metadata": {},
   "source": [
    "#### Quality #4:\n",
    "There are some tweets beyond August 1st, 2017."
   ]
  },
  {
   "cell_type": "markdown",
   "metadata": {},
   "source": [
    "##### Define \n",
    "Drop all tweets beyond August 1st, 2017."
   ]
  },
  {
   "cell_type": "markdown",
   "metadata": {},
   "source": [
    "##### Code"
   ]
  },
  {
   "cell_type": "code",
   "execution_count": 77,
   "metadata": {},
   "outputs": [],
   "source": [
    "ts = '2017-08-01 00:00:00'\n",
    "clean_df = clean_df[(clean_df['timestamp'] < ts)]"
   ]
  },
  {
   "cell_type": "markdown",
   "metadata": {},
   "source": [
    "##### Test"
   ]
  },
  {
   "cell_type": "code",
   "execution_count": 78,
   "metadata": {},
   "outputs": [
    {
     "data": {
      "text/plain": [
       "False    2354\n",
       "Name: timestamp, dtype: int64"
      ]
     },
     "execution_count": 78,
     "metadata": {},
     "output_type": "execute_result"
    }
   ],
   "source": [
    "(clean_df['timestamp'] > ts).value_counts()"
   ]
  },
  {
   "cell_type": "markdown",
   "metadata": {},
   "source": [
    "#### Quality #6:\n",
    "Dataset contains retweets."
   ]
  },
  {
   "cell_type": "markdown",
   "metadata": {},
   "source": [
    "##### Define \n",
    "Remove retweets."
   ]
  },
  {
   "cell_type": "markdown",
   "metadata": {},
   "source": [
    "##### Code"
   ]
  },
  {
   "cell_type": "code",
   "execution_count": 79,
   "metadata": {},
   "outputs": [],
   "source": [
    "# Select rows where 'retweeted_status_id' is null to save to clean_df\n",
    "clean_df = clean_df[clean_df['retweeted_status_id'].isnull()]"
   ]
  },
  {
   "cell_type": "markdown",
   "metadata": {},
   "source": [
    "##### Test"
   ]
  },
  {
   "cell_type": "code",
   "execution_count": 80,
   "metadata": {},
   "outputs": [
    {
     "data": {
      "text/plain": [
       "(2173, 30)"
      ]
     },
     "execution_count": 80,
     "metadata": {},
     "output_type": "execute_result"
    }
   ],
   "source": [
    "clean_df.shape"
   ]
  },
  {
   "cell_type": "markdown",
   "metadata": {},
   "source": [
    "#### Quality #8:\n",
    "image prediction shows that has three level of confidence and some image is not images of dogs. "
   ]
  },
  {
   "cell_type": "markdown",
   "metadata": {},
   "source": [
    "##### Define\n",
    "Setup the conditions for selection \\\n",
    "Set the choice order based on the selection conditions for predicted breed, and\\\n",
    "Set the choice order for confidence level based on the selection conditions\\\n",
    "Select the predicted breed based on the first successful condition.\\\n",
    "Select the predicted confidence level based on the first successful condition & Set breed as 'none' and confidence to 0 for any cases where all 3 prediction flags are False."
   ]
  },
  {
   "cell_type": "markdown",
   "metadata": {},
   "source": [
    "##### Code"
   ]
  },
  {
   "cell_type": "code",
   "execution_count": 81,
   "metadata": {},
   "outputs": [],
   "source": [
    "# setup the conditions for selection\n",
    "conditions = [(clean_df['p1_dog'] == True), (clean_df['p2_dog'] == True), (clean_df['p3_dog'] == True)]"
   ]
  },
  {
   "cell_type": "code",
   "execution_count": 82,
   "metadata": {},
   "outputs": [],
   "source": [
    "# set the choice order based on the selection conditions for predicted breed\n",
    "choices_breed = [clean_df['p1'],clean_df['p2'],clean_df['p3']]"
   ]
  },
  {
   "cell_type": "code",
   "execution_count": 83,
   "metadata": {},
   "outputs": [],
   "source": [
    "# set the choice order for confidence level based on the selection conditions\n",
    "choices_confidence = [clean_df['p1_conf'], clean_df['p2_conf'], clean_df['p3_conf']]"
   ]
  },
  {
   "cell_type": "code",
   "execution_count": 84,
   "metadata": {},
   "outputs": [],
   "source": [
    "# select the predicted breed based on the first successful condition\n",
    "clean_df['breed'] = np.select(conditions, choices_breed, default = 'none')"
   ]
  },
  {
   "cell_type": "code",
   "execution_count": 85,
   "metadata": {},
   "outputs": [],
   "source": [
    "# select the predicted confidence level based on the first successful condition\n",
    "clean_df['confidence'] = np.select(conditions, choices_confidence, default = 0)"
   ]
  },
  {
   "cell_type": "markdown",
   "metadata": {},
   "source": [
    "##### Test"
   ]
  },
  {
   "cell_type": "code",
   "execution_count": 86,
   "metadata": {},
   "outputs": [
    {
     "data": {
      "text/html": [
       "<div>\n",
       "<style scoped>\n",
       "    .dataframe tbody tr th:only-of-type {\n",
       "        vertical-align: middle;\n",
       "    }\n",
       "\n",
       "    .dataframe tbody tr th {\n",
       "        vertical-align: top;\n",
       "    }\n",
       "\n",
       "    .dataframe thead th {\n",
       "        text-align: right;\n",
       "    }\n",
       "</style>\n",
       "<table border=\"1\" class=\"dataframe\">\n",
       "  <thead>\n",
       "    <tr style=\"text-align: right;\">\n",
       "      <th></th>\n",
       "      <th>tweet_id</th>\n",
       "      <th>in_reply_to_status_id</th>\n",
       "      <th>in_reply_to_user_id</th>\n",
       "      <th>timestamp</th>\n",
       "      <th>source</th>\n",
       "      <th>text</th>\n",
       "      <th>retweeted_status_id</th>\n",
       "      <th>retweeted_status_user_id</th>\n",
       "      <th>retweeted_status_timestamp</th>\n",
       "      <th>expanded_urls</th>\n",
       "      <th>...</th>\n",
       "      <th>p2</th>\n",
       "      <th>p2_conf</th>\n",
       "      <th>p2_dog</th>\n",
       "      <th>p3</th>\n",
       "      <th>p3_conf</th>\n",
       "      <th>p3_dog</th>\n",
       "      <th>retweet_count</th>\n",
       "      <th>favorite_count</th>\n",
       "      <th>breed</th>\n",
       "      <th>confidence</th>\n",
       "    </tr>\n",
       "  </thead>\n",
       "  <tbody>\n",
       "    <tr>\n",
       "      <th>2</th>\n",
       "      <td>891815181378084864</td>\n",
       "      <td>NaN</td>\n",
       "      <td>NaN</td>\n",
       "      <td>2017-07-31 00:18:03+00:00</td>\n",
       "      <td>Twitter for iPhone</td>\n",
       "      <td>This is Archie. He is a rare Norwegian Pouncin...</td>\n",
       "      <td>NaN</td>\n",
       "      <td>NaN</td>\n",
       "      <td>NaN</td>\n",
       "      <td>https://twitter.com/dog_rates/status/891815181...</td>\n",
       "      <td>...</td>\n",
       "      <td>malamute</td>\n",
       "      <td>0.078253</td>\n",
       "      <td>True</td>\n",
       "      <td>kelpie</td>\n",
       "      <td>0.031379</td>\n",
       "      <td>True</td>\n",
       "      <td>4273.0</td>\n",
       "      <td>25394.0</td>\n",
       "      <td>Chihuahua</td>\n",
       "      <td>0.716012</td>\n",
       "    </tr>\n",
       "    <tr>\n",
       "      <th>3</th>\n",
       "      <td>891689557279858688</td>\n",
       "      <td>NaN</td>\n",
       "      <td>NaN</td>\n",
       "      <td>2017-07-30 15:58:51+00:00</td>\n",
       "      <td>Twitter for iPhone</td>\n",
       "      <td>This is Darla. She commenced a snooze mid meal...</td>\n",
       "      <td>NaN</td>\n",
       "      <td>NaN</td>\n",
       "      <td>NaN</td>\n",
       "      <td>https://twitter.com/dog_rates/status/891689557...</td>\n",
       "      <td>...</td>\n",
       "      <td>Labrador_retriever</td>\n",
       "      <td>0.168086</td>\n",
       "      <td>True</td>\n",
       "      <td>spatula</td>\n",
       "      <td>0.040836</td>\n",
       "      <td>False</td>\n",
       "      <td>8884.0</td>\n",
       "      <td>42743.0</td>\n",
       "      <td>Labrador_retriever</td>\n",
       "      <td>0.168086</td>\n",
       "    </tr>\n",
       "    <tr>\n",
       "      <th>4</th>\n",
       "      <td>891327558926688256</td>\n",
       "      <td>NaN</td>\n",
       "      <td>NaN</td>\n",
       "      <td>2017-07-29 16:00:24+00:00</td>\n",
       "      <td>Twitter for iPhone</td>\n",
       "      <td>This is Franklin. He would like you to stop ca...</td>\n",
       "      <td>NaN</td>\n",
       "      <td>NaN</td>\n",
       "      <td>NaN</td>\n",
       "      <td>https://twitter.com/dog_rates/status/891327558...</td>\n",
       "      <td>...</td>\n",
       "      <td>English_springer</td>\n",
       "      <td>0.225770</td>\n",
       "      <td>True</td>\n",
       "      <td>German_short-haired_pointer</td>\n",
       "      <td>0.175219</td>\n",
       "      <td>True</td>\n",
       "      <td>9668.0</td>\n",
       "      <td>40904.0</td>\n",
       "      <td>basset</td>\n",
       "      <td>0.555712</td>\n",
       "    </tr>\n",
       "    <tr>\n",
       "      <th>5</th>\n",
       "      <td>891087950875897856</td>\n",
       "      <td>NaN</td>\n",
       "      <td>NaN</td>\n",
       "      <td>2017-07-29 00:08:17+00:00</td>\n",
       "      <td>Twitter for iPhone</td>\n",
       "      <td>Here we have a majestic great white breaching ...</td>\n",
       "      <td>NaN</td>\n",
       "      <td>NaN</td>\n",
       "      <td>NaN</td>\n",
       "      <td>https://twitter.com/dog_rates/status/891087950...</td>\n",
       "      <td>...</td>\n",
       "      <td>Irish_terrier</td>\n",
       "      <td>0.116317</td>\n",
       "      <td>True</td>\n",
       "      <td>Indian_elephant</td>\n",
       "      <td>0.076902</td>\n",
       "      <td>False</td>\n",
       "      <td>3217.0</td>\n",
       "      <td>20508.0</td>\n",
       "      <td>Chesapeake_Bay_retriever</td>\n",
       "      <td>0.425595</td>\n",
       "    </tr>\n",
       "    <tr>\n",
       "      <th>6</th>\n",
       "      <td>890971913173991426</td>\n",
       "      <td>NaN</td>\n",
       "      <td>NaN</td>\n",
       "      <td>2017-07-28 16:27:12+00:00</td>\n",
       "      <td>Twitter for iPhone</td>\n",
       "      <td>Meet Jax. He enjoys ice cream so much he gets ...</td>\n",
       "      <td>NaN</td>\n",
       "      <td>NaN</td>\n",
       "      <td>NaN</td>\n",
       "      <td>https://gofundme.com/ydvmve-surgery-for-jax,ht...</td>\n",
       "      <td>...</td>\n",
       "      <td>Border_collie</td>\n",
       "      <td>0.199287</td>\n",
       "      <td>True</td>\n",
       "      <td>ice_lolly</td>\n",
       "      <td>0.193548</td>\n",
       "      <td>False</td>\n",
       "      <td>2131.0</td>\n",
       "      <td>12033.0</td>\n",
       "      <td>Appenzeller</td>\n",
       "      <td>0.341703</td>\n",
       "    </tr>\n",
       "  </tbody>\n",
       "</table>\n",
       "<p>5 rows × 32 columns</p>\n",
       "</div>"
      ],
      "text/plain": [
       "             tweet_id  in_reply_to_status_id  in_reply_to_user_id  \\\n",
       "2  891815181378084864                    NaN                  NaN   \n",
       "3  891689557279858688                    NaN                  NaN   \n",
       "4  891327558926688256                    NaN                  NaN   \n",
       "5  891087950875897856                    NaN                  NaN   \n",
       "6  890971913173991426                    NaN                  NaN   \n",
       "\n",
       "                  timestamp              source  \\\n",
       "2 2017-07-31 00:18:03+00:00  Twitter for iPhone   \n",
       "3 2017-07-30 15:58:51+00:00  Twitter for iPhone   \n",
       "4 2017-07-29 16:00:24+00:00  Twitter for iPhone   \n",
       "5 2017-07-29 00:08:17+00:00  Twitter for iPhone   \n",
       "6 2017-07-28 16:27:12+00:00  Twitter for iPhone   \n",
       "\n",
       "                                                text  retweeted_status_id  \\\n",
       "2  This is Archie. He is a rare Norwegian Pouncin...                  NaN   \n",
       "3  This is Darla. She commenced a snooze mid meal...                  NaN   \n",
       "4  This is Franklin. He would like you to stop ca...                  NaN   \n",
       "5  Here we have a majestic great white breaching ...                  NaN   \n",
       "6  Meet Jax. He enjoys ice cream so much he gets ...                  NaN   \n",
       "\n",
       "   retweeted_status_user_id retweeted_status_timestamp  \\\n",
       "2                       NaN                        NaN   \n",
       "3                       NaN                        NaN   \n",
       "4                       NaN                        NaN   \n",
       "5                       NaN                        NaN   \n",
       "6                       NaN                        NaN   \n",
       "\n",
       "                                       expanded_urls  ...                  p2  \\\n",
       "2  https://twitter.com/dog_rates/status/891815181...  ...            malamute   \n",
       "3  https://twitter.com/dog_rates/status/891689557...  ...  Labrador_retriever   \n",
       "4  https://twitter.com/dog_rates/status/891327558...  ...    English_springer   \n",
       "5  https://twitter.com/dog_rates/status/891087950...  ...       Irish_terrier   \n",
       "6  https://gofundme.com/ydvmve-surgery-for-jax,ht...  ...       Border_collie   \n",
       "\n",
       "    p2_conf p2_dog                           p3   p3_conf p3_dog  \\\n",
       "2  0.078253   True                       kelpie  0.031379   True   \n",
       "3  0.168086   True                      spatula  0.040836  False   \n",
       "4  0.225770   True  German_short-haired_pointer  0.175219   True   \n",
       "5  0.116317   True              Indian_elephant  0.076902  False   \n",
       "6  0.199287   True                    ice_lolly  0.193548  False   \n",
       "\n",
       "  retweet_count favorite_count                     breed confidence  \n",
       "2        4273.0        25394.0                 Chihuahua   0.716012  \n",
       "3        8884.0        42743.0        Labrador_retriever   0.168086  \n",
       "4        9668.0        40904.0                    basset   0.555712  \n",
       "5        3217.0        20508.0  Chesapeake_Bay_retriever   0.425595  \n",
       "6        2131.0        12033.0               Appenzeller   0.341703  \n",
       "\n",
       "[5 rows x 32 columns]"
      ]
     },
     "execution_count": 86,
     "metadata": {},
     "output_type": "execute_result"
    }
   ],
   "source": [
    "clean_df.head()"
   ]
  },
  {
   "cell_type": "markdown",
   "metadata": {},
   "source": [
    "#### Quality #3:\n",
    "Nan value in the name column."
   ]
  },
  {
   "cell_type": "markdown",
   "metadata": {},
   "source": [
    "##### Define\n",
    "Replace with None name"
   ]
  },
  {
   "cell_type": "markdown",
   "metadata": {},
   "source": [
    "##### Code"
   ]
  },
  {
   "cell_type": "code",
   "execution_count": 87,
   "metadata": {},
   "outputs": [],
   "source": [
    "# fill nan value with 'None'\n",
    "clean_df.name.fillna(value='None', inplace= True)"
   ]
  },
  {
   "cell_type": "markdown",
   "metadata": {},
   "source": [
    "##### Test"
   ]
  },
  {
   "cell_type": "code",
   "execution_count": 88,
   "metadata": {},
   "outputs": [
    {
     "data": {
      "text/plain": [
       "2173"
      ]
     },
     "execution_count": 88,
     "metadata": {},
     "output_type": "execute_result"
    }
   ],
   "source": [
    "clean_df.name.count()"
   ]
  },
  {
   "cell_type": "markdown",
   "metadata": {},
   "source": [
    "#### Quality #7:\n",
    "Extra characters after '&'."
   ]
  },
  {
   "cell_type": "markdown",
   "metadata": {},
   "source": [
    "##### Define\n",
    "Remove extra characters after '&' in `twit_arch` ['text']."
   ]
  },
  {
   "cell_type": "markdown",
   "metadata": {},
   "source": [
    "##### Code"
   ]
  },
  {
   "cell_type": "code",
   "execution_count": 89,
   "metadata": {},
   "outputs": [],
   "source": [
    "clean_df['text'] = clean_df['text'].str.replace('&amp;', '&')"
   ]
  },
  {
   "cell_type": "markdown",
   "metadata": {},
   "source": [
    "##### Test"
   ]
  },
  {
   "cell_type": "code",
   "execution_count": 90,
   "metadata": {},
   "outputs": [
    {
     "data": {
      "text/html": [
       "<div>\n",
       "<style scoped>\n",
       "    .dataframe tbody tr th:only-of-type {\n",
       "        vertical-align: middle;\n",
       "    }\n",
       "\n",
       "    .dataframe tbody tr th {\n",
       "        vertical-align: top;\n",
       "    }\n",
       "\n",
       "    .dataframe thead th {\n",
       "        text-align: right;\n",
       "    }\n",
       "</style>\n",
       "<table border=\"1\" class=\"dataframe\">\n",
       "  <thead>\n",
       "    <tr style=\"text-align: right;\">\n",
       "      <th></th>\n",
       "      <th>tweet_id</th>\n",
       "      <th>in_reply_to_status_id</th>\n",
       "      <th>in_reply_to_user_id</th>\n",
       "      <th>timestamp</th>\n",
       "      <th>source</th>\n",
       "      <th>text</th>\n",
       "      <th>retweeted_status_id</th>\n",
       "      <th>retweeted_status_user_id</th>\n",
       "      <th>retweeted_status_timestamp</th>\n",
       "      <th>expanded_urls</th>\n",
       "      <th>...</th>\n",
       "      <th>p2</th>\n",
       "      <th>p2_conf</th>\n",
       "      <th>p2_dog</th>\n",
       "      <th>p3</th>\n",
       "      <th>p3_conf</th>\n",
       "      <th>p3_dog</th>\n",
       "      <th>retweet_count</th>\n",
       "      <th>favorite_count</th>\n",
       "      <th>breed</th>\n",
       "      <th>confidence</th>\n",
       "    </tr>\n",
       "  </thead>\n",
       "  <tbody>\n",
       "  </tbody>\n",
       "</table>\n",
       "<p>0 rows × 32 columns</p>\n",
       "</div>"
      ],
      "text/plain": [
       "Empty DataFrame\n",
       "Columns: [tweet_id, in_reply_to_status_id, in_reply_to_user_id, timestamp, source, text, retweeted_status_id, retweeted_status_user_id, retweeted_status_timestamp, expanded_urls, rating_numerator, rating_denominator, name, doggo, floofer, pupper, puppo, jpg_url, img_num, p1, p1_conf, p1_dog, p2, p2_conf, p2_dog, p3, p3_conf, p3_dog, retweet_count, favorite_count, breed, confidence]\n",
       "Index: []\n",
       "\n",
       "[0 rows x 32 columns]"
      ]
     },
     "execution_count": 90,
     "metadata": {},
     "output_type": "execute_result"
    }
   ],
   "source": [
    "clean_df[clean_df.text.str.contains('&amp;')]"
   ]
  },
  {
   "cell_type": "markdown",
   "metadata": {},
   "source": [
    "#### Tidiness #3:\n",
    "doggo, floofer, pupper, puppo columns in `twit_arch` should be combined into a single column as this is one variable that identify stage of dog."
   ]
  },
  {
   "cell_type": "markdown",
   "metadata": {},
   "source": [
    "##### Define\n",
    "First replace None in stage columns with empty string /\n",
    "Then combine stage columns /\n",
    "Then format entries with multiple dog stages."
   ]
  },
  {
   "cell_type": "markdown",
   "metadata": {},
   "source": [
    "##### Code"
   ]
  },
  {
   "cell_type": "code",
   "execution_count": 99,
   "metadata": {},
   "outputs": [],
   "source": [
    "#First replace None in stage columns with empty string\n",
    "clean_df.doggo.replace('None', '', inplace=True)\n",
    "clean_df.floofer.replace('None', '', inplace=True)\n",
    "clean_df.pupper.replace('None', '', inplace=True)\n",
    "clean_df.puppo.replace('None', '', inplace=True)"
   ]
  },
  {
   "cell_type": "code",
   "execution_count": 100,
   "metadata": {},
   "outputs": [],
   "source": [
    "#Then combine stage columns\n",
    "clean_df['stage'] = clean_df.doggo + clean_df.floofer + clean_df.pupper + clean_df.puppo"
   ]
  },
  {
   "cell_type": "code",
   "execution_count": 101,
   "metadata": {},
   "outputs": [],
   "source": [
    "#Then format entries with multiple dog stages\n",
    "clean_df.loc[clean_df.stage == 'doggopupper', 'stage'] = 'doggo,pupper' \n",
    "clean_df.loc[clean_df.stage == 'doggopuppo', 'stage'] = 'doggo,puppo' \n",
    "clean_df.loc[clean_df.stage == 'doggofloofer', 'stage'] = 'doggo,floofer'"
   ]
  },
  {
   "cell_type": "markdown",
   "metadata": {},
   "source": [
    "##### Test"
   ]
  },
  {
   "cell_type": "code",
   "execution_count": 102,
   "metadata": {},
   "outputs": [
    {
     "data": {
      "text/plain": [
       "                 1829\n",
       "pupper            224\n",
       "doggo              75\n",
       "puppo              24\n",
       "doggo,pupper       10\n",
       "floofer             9\n",
       "doggo,puppo         1\n",
       "doggo,floofer       1\n",
       "Name: stage, dtype: int64"
      ]
     },
     "execution_count": 102,
     "metadata": {},
     "output_type": "execute_result"
    }
   ],
   "source": [
    "clean_df.stage.value_counts()"
   ]
  },
  {
   "cell_type": "markdown",
   "metadata": {},
   "source": [
    "#### Quality\n",
    "Drop all columns that no needs further analysis and visualization in the next section"
   ]
  },
  {
   "cell_type": "code",
   "execution_count": 103,
   "metadata": {},
   "outputs": [],
   "source": [
    "df= clean_df.drop(['in_reply_to_status_id',\n",
    "               'in_reply_to_user_id',\n",
    "              'retweeted_status_id',\n",
    "              'retweeted_status_user_id',\n",
    "              'retweeted_status_timestamp',\n",
    "                   'pupper',\n",
    "                   'doggo',\n",
    "                   'floofer',\n",
    "                   'puppo',\n",
    "              'img_num',\n",
    "               'expanded_urls',\n",
    "              'p1',\n",
    "               'p1_dog',\n",
    "              'p1_conf',\n",
    "              'p2',\n",
    "              'p2_conf',\n",
    "               'p2_dog',\n",
    "              'p3',\n",
    "              'p3_conf',\n",
    "              'p3_dog'], axis=1)"
   ]
  },
  {
   "cell_type": "code",
   "execution_count": 104,
   "metadata": {},
   "outputs": [],
   "source": [
    "#store the cleaned data\n",
    "df.to_csv('twitter_archive_master.csv', index = False)"
   ]
  },
  {
   "cell_type": "markdown",
   "metadata": {},
   "source": [
    "<a id='Ana'></a>\n",
    "### Analysis"
   ]
  },
  {
   "cell_type": "code",
   "execution_count": 112,
   "metadata": {},
   "outputs": [
    {
     "data": {
      "image/png": "[encoded data removed]",
      "text/plain": [
       "<Figure size 432x288 with 1 Axes>"
      ]
     },
     "metadata": {
      "needs_background": "light"
     },
     "output_type": "display_data"
    }
   ],
   "source": [
    "df['rating_numerator'].plot(kind = 'hist')\n",
    "plt.ylabel('Number of Tweets')\n",
    "plt.xlabel('Rating')\n",
    "plt.title('Distribution of Ratings')\n",
    "plt.show();"
   ]
  },
  {
   "cell_type": "code",
   "execution_count": 115,
   "metadata": {},
   "outputs": [
    {
     "name": "stdout",
     "output_type": "stream",
     "text": [
      "Number of tweets with rating 10+:  442\n",
      "Percentage of tweets:                20%\n",
      "Number of tweets with rating more than 10+:  1300\n",
      "Percentage of tweets:                60%\n"
     ]
    }
   ],
   "source": [
    "#Percentage of tweets with rating of 10 \n",
    "rating_10 = sum(df.rating_numerator == 10)\n",
    "rating_10up= sum(df.rating_numerator > 10)\n",
    "rating_10_perc = round(rating_10 * 100 / df.shape[0])\n",
    "rating_10up_perc = round(rating_10up * 100 / df.shape[0])\n",
    "print(\"Number of tweets with rating 10+:  {}\".format(rating_10))\n",
    "print(\"Percentage of tweets:                {}%\".format(rating_10_perc))\n",
    "\n",
    "print(\"Number of tweets with rating more than 10+:  {}\".format(rating_10up))\n",
    "print(\"Percentage of tweets:                {}%\".format(rating_10up_perc))"
   ]
  },
  {
   "cell_type": "code",
   "execution_count": 116,
   "metadata": {},
   "outputs": [
    {
     "data": {
      "text/html": [
       "<div>\n",
       "<style scoped>\n",
       "    .dataframe tbody tr th:only-of-type {\n",
       "        vertical-align: middle;\n",
       "    }\n",
       "\n",
       "    .dataframe tbody tr th {\n",
       "        vertical-align: top;\n",
       "    }\n",
       "\n",
       "    .dataframe thead th {\n",
       "        text-align: right;\n",
       "    }\n",
       "</style>\n",
       "<table border=\"1\" class=\"dataframe\">\n",
       "  <thead>\n",
       "    <tr style=\"text-align: right;\">\n",
       "      <th></th>\n",
       "      <th>tweet_id</th>\n",
       "      <th>rating_numerator</th>\n",
       "      <th>retweet_count</th>\n",
       "      <th>favorite_count</th>\n",
       "      <th>confidence</th>\n",
       "    </tr>\n",
       "  </thead>\n",
       "  <tbody>\n",
       "    <tr>\n",
       "      <th>count</th>\n",
       "      <td>2.173000e+03</td>\n",
       "      <td>2173.000000</td>\n",
       "      <td>2173.000000</td>\n",
       "      <td>2173.000000</td>\n",
       "      <td>2173.000000</td>\n",
       "    </tr>\n",
       "    <tr>\n",
       "      <th>mean</th>\n",
       "      <td>7.369776e+17</td>\n",
       "      <td>13.215370</td>\n",
       "      <td>2749.780028</td>\n",
       "      <td>8737.728026</td>\n",
       "      <td>0.426538</td>\n",
       "    </tr>\n",
       "    <tr>\n",
       "      <th>std</th>\n",
       "      <td>6.735319e+16</td>\n",
       "      <td>47.747664</td>\n",
       "      <td>4705.577127</td>\n",
       "      <td>12254.529395</td>\n",
       "      <td>0.349532</td>\n",
       "    </tr>\n",
       "    <tr>\n",
       "      <th>min</th>\n",
       "      <td>6.660209e+17</td>\n",
       "      <td>0.000000</td>\n",
       "      <td>0.000000</td>\n",
       "      <td>51.000000</td>\n",
       "      <td>0.000000</td>\n",
       "    </tr>\n",
       "    <tr>\n",
       "      <th>25%</th>\n",
       "      <td>6.768220e+17</td>\n",
       "      <td>10.000000</td>\n",
       "      <td>604.000000</td>\n",
       "      <td>1900.000000</td>\n",
       "      <td>0.033899</td>\n",
       "    </tr>\n",
       "    <tr>\n",
       "      <th>50%</th>\n",
       "      <td>7.095662e+17</td>\n",
       "      <td>11.000000</td>\n",
       "      <td>1331.000000</td>\n",
       "      <td>4011.000000</td>\n",
       "      <td>0.407016</td>\n",
       "    </tr>\n",
       "    <tr>\n",
       "      <th>75%</th>\n",
       "      <td>7.892684e+17</td>\n",
       "      <td>12.000000</td>\n",
       "      <td>3184.000000</td>\n",
       "      <td>11018.000000</td>\n",
       "      <td>0.749368</td>\n",
       "    </tr>\n",
       "    <tr>\n",
       "      <th>max</th>\n",
       "      <td>8.918152e+17</td>\n",
       "      <td>1776.000000</td>\n",
       "      <td>78839.000000</td>\n",
       "      <td>131922.000000</td>\n",
       "      <td>0.999956</td>\n",
       "    </tr>\n",
       "  </tbody>\n",
       "</table>\n",
       "</div>"
      ],
      "text/plain": [
       "           tweet_id  rating_numerator  retweet_count  favorite_count  \\\n",
       "count  2.173000e+03       2173.000000    2173.000000     2173.000000   \n",
       "mean   7.369776e+17         13.215370    2749.780028     8737.728026   \n",
       "std    6.735319e+16         47.747664    4705.577127    12254.529395   \n",
       "min    6.660209e+17          0.000000       0.000000       51.000000   \n",
       "25%    6.768220e+17         10.000000     604.000000     1900.000000   \n",
       "50%    7.095662e+17         11.000000    1331.000000     4011.000000   \n",
       "75%    7.892684e+17         12.000000    3184.000000    11018.000000   \n",
       "max    8.918152e+17       1776.000000   78839.000000   131922.000000   \n",
       "\n",
       "        confidence  \n",
       "count  2173.000000  \n",
       "mean      0.426538  \n",
       "std       0.349532  \n",
       "min       0.000000  \n",
       "25%       0.033899  \n",
       "50%       0.407016  \n",
       "75%       0.749368  \n",
       "max       0.999956  "
      ]
     },
     "execution_count": 116,
     "metadata": {},
     "output_type": "execute_result"
    }
   ],
   "source": [
    "df.describe()"
   ]
  },
  {
   "cell_type": "code",
   "execution_count": 117,
   "metadata": {},
   "outputs": [
    {
     "data": {
      "text/html": [
       "<div>\n",
       "<style scoped>\n",
       "    .dataframe tbody tr th:only-of-type {\n",
       "        vertical-align: middle;\n",
       "    }\n",
       "\n",
       "    .dataframe tbody tr th {\n",
       "        vertical-align: top;\n",
       "    }\n",
       "\n",
       "    .dataframe thead th {\n",
       "        text-align: right;\n",
       "    }\n",
       "</style>\n",
       "<table border=\"1\" class=\"dataframe\">\n",
       "  <thead>\n",
       "    <tr style=\"text-align: right;\">\n",
       "      <th></th>\n",
       "      <th>tweet_id</th>\n",
       "      <th>timestamp</th>\n",
       "      <th>source</th>\n",
       "      <th>text</th>\n",
       "      <th>rating_numerator</th>\n",
       "      <th>name</th>\n",
       "      <th>jpg_url</th>\n",
       "      <th>retweet_count</th>\n",
       "      <th>favorite_count</th>\n",
       "      <th>breed</th>\n",
       "      <th>confidence</th>\n",
       "      <th>stage</th>\n",
       "    </tr>\n",
       "  </thead>\n",
       "  <tbody>\n",
       "    <tr>\n",
       "      <th>1039</th>\n",
       "      <td>744234799360020481</td>\n",
       "      <td>2016-06-18 18:26:18+00:00</td>\n",
       "      <td>Twitter for iPhone</td>\n",
       "      <td>Here's a doggo realizing you can stand in a po...</td>\n",
       "      <td>13</td>\n",
       "      <td>None</td>\n",
       "      <td>https://pbs.twimg.com/ext_tw_video_thumb/74423...</td>\n",
       "      <td>78839.0</td>\n",
       "      <td>130212.0</td>\n",
       "      <td>Labrador_retriever</td>\n",
       "      <td>0.825333</td>\n",
       "      <td>doggo</td>\n",
       "    </tr>\n",
       "  </tbody>\n",
       "</table>\n",
       "</div>"
      ],
      "text/plain": [
       "                tweet_id                 timestamp              source  \\\n",
       "1039  744234799360020481 2016-06-18 18:26:18+00:00  Twitter for iPhone   \n",
       "\n",
       "                                                   text  rating_numerator  \\\n",
       "1039  Here's a doggo realizing you can stand in a po...                13   \n",
       "\n",
       "      name                                            jpg_url  retweet_count  \\\n",
       "1039  None  https://pbs.twimg.com/ext_tw_video_thumb/74423...        78839.0   \n",
       "\n",
       "      favorite_count               breed  confidence  stage  \n",
       "1039        130212.0  Labrador_retriever    0.825333  doggo  "
      ]
     },
     "execution_count": 117,
     "metadata": {},
     "output_type": "execute_result"
    }
   ],
   "source": [
    "df[df.retweet_count == 78839]"
   ]
  },
  {
   "cell_type": "code",
   "execution_count": 118,
   "metadata": {},
   "outputs": [
    {
     "data": {
      "text/plain": [
       "'https://pbs.twimg.com/media/CerhoBWWAAA5eLL.jpg'"
      ]
     },
     "execution_count": 118,
     "metadata": {},
     "output_type": "execute_result"
    }
   ],
   "source": [
    "df.jpg_url.iloc[1039]"
   ]
  },
  {
   "cell_type": "markdown",
   "metadata": {},
   "source": [
    "![alt text](https://pbs.twimg.com/media/ClHICHmXEAI_1PS.jpg \"1039\") "
   ]
  },
  {
   "cell_type": "code",
   "execution_count": 119,
   "metadata": {},
   "outputs": [
    {
     "data": {
      "text/html": [
       "<div>\n",
       "<style scoped>\n",
       "    .dataframe tbody tr th:only-of-type {\n",
       "        vertical-align: middle;\n",
       "    }\n",
       "\n",
       "    .dataframe tbody tr th {\n",
       "        vertical-align: top;\n",
       "    }\n",
       "\n",
       "    .dataframe thead th {\n",
       "        text-align: right;\n",
       "    }\n",
       "</style>\n",
       "<table border=\"1\" class=\"dataframe\">\n",
       "  <thead>\n",
       "    <tr style=\"text-align: right;\">\n",
       "      <th></th>\n",
       "      <th>tweet_id</th>\n",
       "      <th>timestamp</th>\n",
       "      <th>source</th>\n",
       "      <th>text</th>\n",
       "      <th>rating_numerator</th>\n",
       "      <th>name</th>\n",
       "      <th>jpg_url</th>\n",
       "      <th>retweet_count</th>\n",
       "      <th>favorite_count</th>\n",
       "      <th>breed</th>\n",
       "      <th>confidence</th>\n",
       "      <th>stage</th>\n",
       "    </tr>\n",
       "  </thead>\n",
       "  <tbody>\n",
       "    <tr>\n",
       "      <th>413</th>\n",
       "      <td>822872901745569793</td>\n",
       "      <td>2017-01-21 18:26:02+00:00</td>\n",
       "      <td>Twitter for iPhone</td>\n",
       "      <td>Here's a super supportive puppo participating ...</td>\n",
       "      <td>13</td>\n",
       "      <td>None</td>\n",
       "      <td>https://pbs.twimg.com/media/C2tugXLXgAArJO4.jpg</td>\n",
       "      <td>47768.0</td>\n",
       "      <td>131922.0</td>\n",
       "      <td>Lakeland_terrier</td>\n",
       "      <td>0.196015</td>\n",
       "      <td>puppo</td>\n",
       "    </tr>\n",
       "  </tbody>\n",
       "</table>\n",
       "</div>"
      ],
      "text/plain": [
       "               tweet_id                 timestamp              source  \\\n",
       "413  822872901745569793 2017-01-21 18:26:02+00:00  Twitter for iPhone   \n",
       "\n",
       "                                                  text  rating_numerator  \\\n",
       "413  Here's a super supportive puppo participating ...                13   \n",
       "\n",
       "     name                                          jpg_url  retweet_count  \\\n",
       "413  None  https://pbs.twimg.com/media/C2tugXLXgAArJO4.jpg        47768.0   \n",
       "\n",
       "     favorite_count             breed  confidence  stage  \n",
       "413        131922.0  Lakeland_terrier    0.196015  puppo  "
      ]
     },
     "execution_count": 119,
     "metadata": {},
     "output_type": "execute_result"
    }
   ],
   "source": [
    "df[df.favorite_count == 131922]"
   ]
  },
  {
   "cell_type": "code",
   "execution_count": 120,
   "metadata": {},
   "outputs": [
    {
     "data": {
      "text/plain": [
       "'https://pbs.twimg.com/media/C0izZULWgAAKD-F.jpg'"
      ]
     },
     "execution_count": 120,
     "metadata": {},
     "output_type": "execute_result"
    }
   ],
   "source": [
    "df.jpg_url.iloc[413]"
   ]
  },
  {
   "cell_type": "markdown",
   "metadata": {},
   "source": [
    "![alt text](https://pbs.twimg.com/media/C2p_wQyXEAELtvS.jpg \"413\") "
   ]
  },
  {
   "cell_type": "code",
   "execution_count": 121,
   "metadata": {},
   "outputs": [],
   "source": [
    "# Set the index to be the timestamp so time is displayed properly in plots\n",
    "df.set_index('timestamp', inplace=True)"
   ]
  },
  {
   "cell_type": "code",
   "execution_count": 122,
   "metadata": {},
   "outputs": [
    {
     "data": {
      "image/png": "[encoded data removed]",
      "text/plain": [
       "<Figure size 432x288 with 1 Axes>"
      ]
     },
     "metadata": {
      "needs_background": "light"
     },
     "output_type": "display_data"
    }
   ],
   "source": [
    "df['retweet_count'].plot(color = 'red', label='Retweets')\n",
    "df['favorite_count'].plot(color = 'blue', label='Favorites')\n",
    "plt.style.use('seaborn-darkgrid')\n",
    "plt.legend(loc='upper left')\n",
    "plt.xlabel('Tweet timestamp')\n",
    "plt.ylabel('Count')\n",
    "plt.title('Retweets and favorites over time')\n",
    "plt.savefig('retweets_favorites.png')\n",
    "plt.show()"
   ]
  },
  {
   "cell_type": "code",
   "execution_count": 123,
   "metadata": {},
   "outputs": [
    {
     "data": {
      "image/png": "[encoded data removed]",
      "text/plain": [
       "<Figure size 432x288 with 1 Axes>"
      ]
     },
     "metadata": {},
     "output_type": "display_data"
    }
   ],
   "source": [
    "df['rating_numerator'].plot()\n",
    "plt.style.use('seaborn-darkgrid')\n",
    "plt.xlabel('Time')\n",
    "plt.ylabel('Ratio')\n",
    "plt.title('Rating ratio over time')\n",
    "plt.savefig('ratio.png')\n",
    "plt.show()"
   ]
  },
  {
   "cell_type": "code",
   "execution_count": null,
   "metadata": {},
   "outputs": [],
   "source": []
  }
 ],
 "metadata": {
  "kernelspec": {
   "display_name": "Python 3",
   "language": "python",
   "name": "python3"
  },
  "language_info": {
   "codemirror_mode": {
    "name": "ipython",
    "version": 3
   },
   "file_extension": ".py",
   "mimetype": "text/x-python",
   "name": "python",
   "nbconvert_exporter": "python",
   "pygments_lexer": "ipython3",
   "version": "3.7.6"
  }
 },
 "nbformat": 4,
 "nbformat_minor": 4
}
